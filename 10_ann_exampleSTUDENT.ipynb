{
 "cells": [
  {
   "cell_type": "markdown",
   "metadata": {},
   "source": [
    "Here we will recreate the XOR classification problem shown in Chapter 10 of Geron's Hands-on Machine Learning book. "
   ]
  },
  {
   "cell_type": "markdown",
   "metadata": {},
   "source": [
    "<!-- ![Figure 10-6](mls3_1006.png) -->"
   ]
  },
  {
   "cell_type": "markdown",
   "metadata": {},
   "source": [
    "<img src=\"mls3_1006.png\" width=400 />"
   ]
  },
  {
   "cell_type": "code",
   "execution_count": 6,
   "metadata": {},
   "outputs": [],
   "source": [
    "import numpy as np"
   ]
  },
  {
   "cell_type": "markdown",
   "metadata": {},
   "source": [
    "Here we will do the XOR classification \"by hand\". Try to edit the first line to get various points from the LHS of the picture. "
   ]
  },
  {
   "cell_type": "code",
   "execution_count": 7,
   "metadata": {},
   "outputs": [
    {
     "name": "stdout",
     "output_type": "stream",
     "text": [
      "node 3 category:  1\n"
     ]
    }
   ],
   "source": [
    "x1, x2 = 1, 0\n",
    "\n",
    "n1 = x1 * 1 + x2 *1 - 3/2\n",
    "n2 = x1 * 1 + x2 *1 - 1/2\n",
    "\n",
    "if n1 > 0:\n",
    "    xn1 = 1\n",
    "else:\n",
    "    xn1 = 0\n",
    "\n",
    "if n2 > 0:\n",
    "    xn2 = 1\n",
    "else:\n",
    "    xn2 = 0\n",
    "\n",
    "n3 = xn1 * (-1) + xn2 * 1 - 1/2\n",
    "\n",
    "if n3 > 0:\n",
    "    xn3 = 1\n",
    "else:\n",
    "    xn3 = 0\n",
    "\n",
    "print(\"node 3 category:  \" + str(xn3))\n"
   ]
  },
  {
   "cell_type": "markdown",
   "metadata": {},
   "source": [
    "Now we will create a function, pass the weights and all points. The result will be the classification of all points (at once). "
   ]
  },
  {
   "cell_type": "code",
   "execution_count": 20,
   "metadata": {},
   "outputs": [],
   "source": [
    "def XORmlp(dat, wts):\n",
    "    #layer 1:\n",
    "    ## node 1\n",
    "    mywts = wts[0,:2]\n",
    "    mybias = wts[0,2]\n",
    "    mycalc = dat.dot(mywts) + mybias\n",
    "    n1res = np.where(mycalc < 0, 0, 1)\n",
    "    ## node 2\n",
    "    mywts = wts[1,:2]\n",
    "    mybias = wts[1,2]\n",
    "    mycalc = dat.dot(mywts) + mybias\n",
    "    n2res = np.where(mycalc < 0, 0, 1)\n",
    "\n",
    "    datl1 = np.column_stack((n1res, n2res))\n",
    "    # print(n1res, n2res)\n",
    "    # print(datl1)\n",
    "\n",
    "    # layer 2\n",
    "    ## node 3\n",
    "    mywts = wts[2,:2]\n",
    "    mybias = wts[2,2]\n",
    "    mycalc = datl1.dot(mywts) + mybias\n",
    "    n3res = np.where(mycalc < 0, 0, 1)\n",
    "\n",
    "    # print(n3res)\n",
    "\n",
    "    return(n3res)\n"
   ]
  },
  {
   "cell_type": "code",
   "execution_count": 19,
   "metadata": {},
   "outputs": [
    {
     "data": {
      "text/plain": [
       "array([0, 0])"
      ]
     },
     "execution_count": 19,
     "metadata": {},
     "output_type": "execute_result"
    }
   ],
   "source": [
    "data[0,]\n"
   ]
  },
  {
   "cell_type": "code",
   "execution_count": 22,
   "metadata": {},
   "outputs": [],
   "source": [
    "data = np.array([[0,0],\n",
    "                 [0,1],\n",
    "                 [1,0],\n",
    "                 [1,1]])\n",
    "weights = np.array([[1,1,-3/2],\n",
    "                    [1,1,-1/2],\n",
    "                    [-1,1,-1/2]])"
   ]
  },
  {
   "cell_type": "code",
   "execution_count": 23,
   "metadata": {},
   "outputs": [
    {
     "data": {
      "text/plain": [
       "array([[0, 0, 0],\n",
       "       [0, 1, 1],\n",
       "       [1, 0, 1],\n",
       "       [1, 1, 1]])"
      ]
     },
     "execution_count": 23,
     "metadata": {},
     "output_type": "execute_result"
    }
   ],
   "source": [
    "res = XORmlp(data, weights)\n",
    "\n",
    "np.column_stack((data, res))"
   ]
  },
  {
   "cell_type": "markdown",
   "metadata": {},
   "source": [
    "Try playing with the weights to see if you can get the same answer with different weights. "
   ]
  },
  {
   "cell_type": "code",
   "execution_count": null,
   "metadata": {},
   "outputs": [],
   "source": [
    "data2 = np.array([])\n",
    "weights2 = np.array([   ,\n",
    "                       ,\n",
    "                       ,])\n",
    "\n",
    "res2 = XORmlp(data2, weights2)\n",
    "\n",
    "np.column_stack((data2, res2))"
   ]
  }
 ],
 "metadata": {
  "kernelspec": {
   "display_name": "base",
   "language": "python",
   "name": "python3"
  },
  "language_info": {
   "codemirror_mode": {
    "name": "ipython",
    "version": 3
   },
   "file_extension": ".py",
   "mimetype": "text/x-python",
   "name": "python",
   "nbconvert_exporter": "python",
   "pygments_lexer": "ipython3",
   "version": "3.11.3"
  },
  "orig_nbformat": 4
 },
 "nbformat": 4,
 "nbformat_minor": 2
}
