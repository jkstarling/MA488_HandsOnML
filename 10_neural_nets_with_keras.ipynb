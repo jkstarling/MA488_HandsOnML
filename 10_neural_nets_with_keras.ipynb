{
  "cells": [
    {
      "cell_type": "markdown",
      "metadata": {
        "id": "38qbcW3p9bzG"
      },
      "source": [
        "**Chapter 10 – Introduction to Artificial Neural Networks with Keras**"
      ]
    },
    {
      "cell_type": "markdown",
      "metadata": {
        "id": "e4pEcSYl9bzI"
      },
      "source": [
        "_This notebook contains all the sample code and solutions to the exercises in chapter 10._"
      ]
    },
    {
      "cell_type": "markdown",
      "metadata": {
        "id": "0dXqnnJ89bzJ"
      },
      "source": [
        "<table align=\"left\">\n",
        "  <td>\n",
        "    <a href=\"https://colab.research.google.com/github/ageron/handson-ml3/blob/main/10_neural_nets_with_keras.ipynb\" target=\"_parent\"><img src=\"https://colab.research.google.com/assets/colab-badge.svg\" alt=\"Open In Colab\"/></a>\n",
        "  </td>\n",
        "  <td>\n",
        "    <a target=\"_blank\" href=\"https://kaggle.com/kernels/welcome?src=https://github.com/ageron/handson-ml3/blob/main/10_neural_nets_with_keras.ipynb\"><img src=\"https://kaggle.com/static/images/open-in-kaggle.svg\" /></a>\n",
        "  </td>\n",
        "</table>"
      ]
    },
    {
      "cell_type": "markdown",
      "metadata": {
        "id": "pb3WP1Vd9bzJ",
        "tags": []
      },
      "source": [
        "# Setup"
      ]
    },
    {
      "cell_type": "markdown",
      "metadata": {
        "id": "Urpipm_h9bzJ"
      },
      "source": [
        "This project requires Python 3.7 or above:"
      ]
    },
    {
      "cell_type": "code",
      "execution_count": 1,
      "metadata": {
        "id": "aDHdhGzY9bzK"
      },
      "outputs": [],
      "source": [
        "import sys\n",
        "\n",
        "assert sys.version_info >= (3, 7)"
      ]
    },
    {
      "cell_type": "markdown",
      "metadata": {
        "id": "SczaGiAm9bzK"
      },
      "source": [
        "It also requires Scikit-Learn ≥ 1.0.1:"
      ]
    },
    {
      "cell_type": "code",
      "execution_count": 2,
      "metadata": {
        "id": "sTvoM8Fc9bzL"
      },
      "outputs": [],
      "source": [
        "from packaging import version\n",
        "import sklearn\n",
        "\n",
        "assert version.parse(sklearn.__version__) >= version.parse(\"1.0.1\")"
      ]
    },
    {
      "cell_type": "markdown",
      "metadata": {
        "id": "bcUJSB7m9bzL"
      },
      "source": [
        "And TensorFlow ≥ 2.8:"
      ]
    },
    {
      "cell_type": "code",
      "execution_count": 3,
      "metadata": {
        "id": "Ko0gXyk69bzL"
      },
      "outputs": [],
      "source": [
        "import tensorflow as tf\n",
        "\n",
        "assert version.parse(tf.__version__) >= version.parse(\"2.8.0\")"
      ]
    },
    {
      "cell_type": "markdown",
      "metadata": {
        "id": "QdGtfDfT9bzL"
      },
      "source": [
        "As we did in previous chapters, let's define the default font sizes to make the figures prettier:"
      ]
    },
    {
      "cell_type": "code",
      "execution_count": 4,
      "metadata": {
        "id": "ITXTR-SN9bzL"
      },
      "outputs": [],
      "source": [
        "import matplotlib.pyplot as plt\n",
        "\n",
        "plt.rc('font', size=14)\n",
        "plt.rc('axes', labelsize=14, titlesize=14)\n",
        "plt.rc('legend', fontsize=14)\n",
        "plt.rc('xtick', labelsize=10)\n",
        "plt.rc('ytick', labelsize=10)"
      ]
    },
    {
      "cell_type": "markdown",
      "metadata": {
        "id": "rwaPcCg19bzM"
      },
      "source": [
        "And let's create the `images/ann` folder (if it doesn't already exist), and define the `save_fig()` function which is used through this notebook to save the figures in high-res for the book:"
      ]
    },
    {
      "cell_type": "code",
      "execution_count": 5,
      "metadata": {
        "id": "r_qC7yo69bzM"
      },
      "outputs": [],
      "source": [
        "from pathlib import Path\n",
        "\n",
        "IMAGES_PATH = Path() / \"images\" / \"ann\"\n",
        "IMAGES_PATH.mkdir(parents=True, exist_ok=True)\n",
        "\n",
        "def save_fig(fig_id, tight_layout=True, fig_extension=\"png\", resolution=300):\n",
        "    path = IMAGES_PATH / f\"{fig_id}.{fig_extension}\"\n",
        "    if tight_layout:\n",
        "        plt.tight_layout()\n",
        "    plt.savefig(path, format=fig_extension, dpi=resolution)"
      ]
    },
    {
      "cell_type": "markdown",
      "metadata": {
        "id": "ARx8VZF69bzM"
      },
      "source": [
        "# From Biological to Artificial Neurons\n",
        "## The Perceptron"
      ]
    },
    {
      "cell_type": "code",
      "execution_count": 6,
      "metadata": {
        "id": "SzWSmMFs9bzM"
      },
      "outputs": [],
      "source": [
        "import numpy as np\n",
        "from sklearn.datasets import load_iris\n",
        "from sklearn.linear_model import Perceptron\n",
        "\n",
        "iris = load_iris(as_frame=True)\n",
        "X = iris.data[[\"petal length (cm)\", \"petal width (cm)\"]].values\n",
        "y = (iris.target == 0)  # Iris setosa\n",
        "\n",
        "per_clf = Perceptron(random_state=42)\n",
        "per_clf.fit(X, y)\n",
        "\n",
        "X_new = [[2, 0.5], [3, 1]]\n",
        "y_pred = per_clf.predict(X_new)  # predicts True and False for these 2 flowers"
      ]
    },
    {
      "cell_type": "code",
      "execution_count": 7,
      "metadata": {
        "id": "S6_g9w5A9bzM",
        "outputId": "655fcdf4-8d80-47e2-ff5f-086f8bc2c21c"
      },
      "outputs": [
        {
          "data": {
            "text/plain": [
              "array([ True, False])"
            ]
          },
          "execution_count": 7,
          "metadata": {},
          "output_type": "execute_result"
        }
      ],
      "source": [
        "y_pred"
      ]
    },
    {
      "cell_type": "markdown",
      "metadata": {
        "id": "-2ZAQpzM9bzM"
      },
      "source": [
        "The `Perceptron` is equivalent to a `SGDClassifier` with `loss=\"perceptron\"`, no regularization, and a constant learning rate equal to 1:"
      ]
    },
    {
      "cell_type": "code",
      "execution_count": 8,
      "metadata": {
        "id": "Xp20miNy9bzN"
      },
      "outputs": [],
      "source": [
        "# extra code – shows how to build and train a Perceptron\n",
        "\n",
        "from sklearn.linear_model import SGDClassifier\n",
        "\n",
        "sgd_clf = SGDClassifier(loss=\"perceptron\", penalty=None,\n",
        "                        learning_rate=\"constant\", eta0=1, random_state=42)\n",
        "sgd_clf.fit(X, y)\n",
        "assert (sgd_clf.coef_ == per_clf.coef_).all()\n",
        "assert (sgd_clf.intercept_ == per_clf.intercept_).all()"
      ]
    },
    {
      "cell_type": "markdown",
      "metadata": {
        "id": "nqzYwess9bzN"
      },
      "source": [
        "When the Perceptron finds a decision boundary that properly separates the classes, it stops learning. This means that the decision boundary is often quite close to one class:"
      ]
    },
    {
      "cell_type": "code",
      "execution_count": 9,
      "metadata": {
        "id": "h30vLXcC9bzN",
        "outputId": "14d3c8b1-134b-479f-9ab4-fb8e6f2cccbe"
      },
      "outputs": [
        {
          "data": {
            "image/png": "[encoded data removed]",
            "text/plain": [
              "<Figure size 700x300 with 1 Axes>"
            ]
          },
          "metadata": {},
          "output_type": "display_data"
        }
      ],
      "source": [
        "# extra code – plots the decision boundary of a Perceptron on the iris dataset\n",
        "\n",
        "import matplotlib.pyplot as plt\n",
        "from matplotlib.colors import ListedColormap\n",
        "\n",
        "a = -per_clf.coef_[0, 0] / per_clf.coef_[0, 1]\n",
        "b = -per_clf.intercept_ / per_clf.coef_[0, 1]\n",
        "axes = [0, 5, 0, 2]\n",
        "x0, x1 = np.meshgrid(\n",
        "    np.linspace(axes[0], axes[1], 500).reshape(-1, 1),\n",
        "    np.linspace(axes[2], axes[3], 200).reshape(-1, 1),\n",
        ")\n",
        "X_new = np.c_[x0.ravel(), x1.ravel()]\n",
        "y_predict = per_clf.predict(X_new)\n",
        "zz = y_predict.reshape(x0.shape)\n",
        "custom_cmap = ListedColormap(['#9898ff', '#fafab0'])\n",
        "\n",
        "plt.figure(figsize=(7, 3))\n",
        "plt.plot(X[y == 0, 0], X[y == 0, 1], \"bs\", label=\"Not Iris setosa\")\n",
        "plt.plot(X[y == 1, 0], X[y == 1, 1], \"yo\", label=\"Iris setosa\")\n",
        "plt.plot([axes[0], axes[1]], [a * axes[0] + b, a * axes[1] + b], \"k-\",\n",
        "         linewidth=3)\n",
        "plt.contourf(x0, x1, zz, cmap=custom_cmap)\n",
        "plt.xlabel(\"Petal length\")\n",
        "plt.ylabel(\"Petal width\")\n",
        "plt.legend(loc=\"lower right\")\n",
        "plt.axis(axes)\n",
        "plt.show()"
      ]
    },
    {
      "cell_type": "markdown",
      "metadata": {
        "id": "K2FIPkhW9bzN"
      },
      "source": [
        "**Activation functions**"
      ]
    },
    {
      "cell_type": "code",
      "execution_count": 10,
      "metadata": {
        "id": "SavHoYHJ9bzN",
        "outputId": "64bcd7bc-8013-4e1e-d8ef-35db8b8d3f13"
      },
      "outputs": [
        {
          "data": {
            "image/png": "[encoded data removed]",
            "text/plain": [
              "<Figure size 1100x310 with 2 Axes>"
            ]
          },
          "metadata": {},
          "output_type": "display_data"
        }
      ],
      "source": [
        "# extra code – this cell generates and saves Figure 10–8\n",
        "\n",
        "from scipy.special import expit as sigmoid\n",
        "\n",
        "def relu(z):\n",
        "    return np.maximum(0, z)\n",
        "\n",
        "def derivative(f, z, eps=0.000001):\n",
        "    return (f(z + eps) - f(z - eps))/(2 * eps)\n",
        "\n",
        "max_z = 4.5\n",
        "z = np.linspace(-max_z, max_z, 200)\n",
        "\n",
        "plt.figure(figsize=(11, 3.1))\n",
        "\n",
        "plt.subplot(121)\n",
        "plt.plot([-max_z, 0], [0, 0], \"r-\", linewidth=2, label=\"Heaviside\")\n",
        "plt.plot(z, relu(z), \"m-.\", linewidth=2, label=\"ReLU\")\n",
        "plt.plot([0, 0], [0, 1], \"r-\", linewidth=0.5)\n",
        "plt.plot([0, max_z], [1, 1], \"r-\", linewidth=2)\n",
        "plt.plot(z, sigmoid(z), \"g--\", linewidth=2, label=\"Sigmoid\")\n",
        "plt.plot(z, np.tanh(z), \"b-\", linewidth=1, label=\"Tanh\")\n",
        "plt.grid(True)\n",
        "plt.title(\"Activation functions\")\n",
        "plt.axis([-max_z, max_z, -1.65, 2.4])\n",
        "plt.gca().set_yticks([-1, 0, 1, 2])\n",
        "plt.legend(loc=\"lower right\", fontsize=13)\n",
        "\n",
        "plt.subplot(122)\n",
        "plt.plot(z, derivative(np.sign, z), \"r-\", linewidth=2, label=\"Heaviside\")\n",
        "plt.plot(0, 0, \"ro\", markersize=5)\n",
        "plt.plot(0, 0, \"rx\", markersize=10)\n",
        "plt.plot(z, derivative(sigmoid, z), \"g--\", linewidth=2, label=\"Sigmoid\")\n",
        "plt.plot(z, derivative(np.tanh, z), \"b-\", linewidth=1, label=\"Tanh\")\n",
        "plt.plot([-max_z, 0], [0, 0], \"m-.\", linewidth=2)\n",
        "plt.plot([0, max_z], [1, 1], \"m-.\", linewidth=2)\n",
        "plt.plot([0, 0], [0, 1], \"m-.\", linewidth=1.2)\n",
        "plt.plot(0, 1, \"mo\", markersize=5)\n",
        "plt.plot(0, 1, \"mx\", markersize=10)\n",
        "plt.grid(True)\n",
        "plt.title(\"Derivatives\")\n",
        "plt.axis([-max_z, max_z, -0.2, 1.2])\n",
        "\n",
        "save_fig(\"activation_functions_plot\")\n",
        "plt.show()"
      ]
    },
    {
      "cell_type": "markdown",
      "metadata": {
        "id": "ZHQXPXna9bzN"
      },
      "source": [
        "## Regression MLPs"
      ]
    },
    {
      "cell_type": "code",
      "execution_count": 11,
      "metadata": {
        "id": "y7bBA_fc9bzN"
      },
      "outputs": [],
      "source": [
        "from sklearn.datasets import fetch_california_housing\n",
        "from sklearn.metrics import mean_squared_error\n",
        "from sklearn.model_selection import train_test_split\n",
        "from sklearn.neural_network import MLPRegressor\n",
        "from sklearn.pipeline import make_pipeline\n",
        "from sklearn.preprocessing import StandardScaler\n",
        "\n",
        "housing = fetch_california_housing()\n",
        "X_train_full, X_test, y_train_full, y_test = train_test_split(\n",
        "    housing.data, housing.target, random_state=42)\n",
        "X_train, X_valid, y_train, y_valid = train_test_split(\n",
        "    X_train_full, y_train_full, random_state=42)\n",
        "\n",
        "mlp_reg = MLPRegressor(hidden_layer_sizes=[50, 50, 50], random_state=42)\n",
        "pipeline = make_pipeline(StandardScaler(), mlp_reg)\n",
        "pipeline.fit(X_train, y_train)\n",
        "y_pred = pipeline.predict(X_valid)\n",
        "rmse = mean_squared_error(y_valid, y_pred, squared=False)"
      ]
    },
    {
      "cell_type": "code",
      "execution_count": 12,
      "metadata": {
        "id": "kMygW8je9bzN",
        "outputId": "3011bf0f-64b1-4925-d0d0-76a1f9fed7fc"
      },
      "outputs": [
        {
          "data": {
            "text/plain": [
              "0.5053326657968145"
            ]
          },
          "execution_count": 12,
          "metadata": {},
          "output_type": "execute_result"
        }
      ],
      "source": [
        "rmse"
      ]
    },
    {
      "cell_type": "markdown",
      "metadata": {
        "id": "px_j1yCA9bzN"
      },
      "source": [
        "## Classification MLPs"
      ]
    },
    {
      "cell_type": "code",
      "execution_count": 13,
      "metadata": {
        "id": "3lFgFgEd9bzN",
        "outputId": "a8b48cd5-049b-41d2-ede2-06987a1f592d"
      },
      "outputs": [
        {
          "data": {
            "text/plain": [
              "1.0"
            ]
          },
          "execution_count": 13,
          "metadata": {},
          "output_type": "execute_result"
        }
      ],
      "source": [
        "# extra code – this was left as an exercise for the reader\n",
        "\n",
        "from sklearn.datasets import load_iris\n",
        "from sklearn.model_selection import train_test_split\n",
        "from sklearn.neural_network import MLPClassifier\n",
        "\n",
        "iris = load_iris()\n",
        "X_train_full, X_test, y_train_full, y_test = train_test_split(\n",
        "    iris.data, iris.target, test_size=0.1, random_state=42)\n",
        "X_train, X_valid, y_train, y_valid = train_test_split(\n",
        "    X_train_full, y_train_full, test_size=0.1, random_state=42)\n",
        "\n",
        "mlp_clf = MLPClassifier(hidden_layer_sizes=[5], max_iter=10_000,\n",
        "                        random_state=42)\n",
        "pipeline = make_pipeline(StandardScaler(), mlp_clf)\n",
        "pipeline.fit(X_train, y_train)\n",
        "# pipeline.fit(X_train_full, y_train_full)\n",
        "accuracy = pipeline.score(X_valid, y_valid)\n",
        "accuracy"
      ]
    },
    {
      "cell_type": "code",
      "execution_count": 14,
      "metadata": {},
      "outputs": [
        {
          "data": {
            "text/plain": [
              "1.0"
            ]
          },
          "execution_count": 14,
          "metadata": {},
          "output_type": "execute_result"
        }
      ],
      "source": [
        "pipeline.fit(X_train_full, y_train_full)\n",
        "pipeline.score(X_test, y_test)"
      ]
    },
    {
      "cell_type": "markdown",
      "metadata": {
        "id": "MUvyNdxR9bzO"
      },
      "source": [
        "# Implementing MLPs with Keras\n",
        "## Building an Image Classifier Using the Sequential API\n",
        "### Using Keras to load the dataset"
      ]
    },
    {
      "cell_type": "markdown",
      "metadata": {
        "id": "WF1x8Or29bzO"
      },
      "source": [
        "Let's start by loading the fashion MNIST dataset. Keras has a number of functions to load popular datasets in `tf.keras.datasets`. The dataset is already split for you between a training set (60,000 images) and a test set (10,000 images), but it can be useful to split the training set further to have a validation set. We'll use 55,000 images for training, and 5,000 for validation."
      ]
    },
    {
      "cell_type": "code",
      "execution_count": 15,
      "metadata": {
        "id": "xPZt8Cu99bzO"
      },
      "outputs": [],
      "source": [
        "import tensorflow as tf\n",
        "\n",
        "fashion_mnist = tf.keras.datasets.fashion_mnist.load_data()\n",
        "(X_train_full, y_train_full), (X_test, y_test) = fashion_mnist\n",
        "X_train, y_train = X_train_full[:-5000], y_train_full[:-5000]\n",
        "X_valid, y_valid = X_train_full[-5000:], y_train_full[-5000:]"
      ]
    },
    {
      "cell_type": "markdown",
      "metadata": {
        "id": "OK-F53Gn9bzO"
      },
      "source": [
        "The training set contains 60,000 grayscale images, each 28x28 pixels:"
      ]
    },
    {
      "cell_type": "code",
      "execution_count": 16,
      "metadata": {
        "id": "-bLpPQPD9bzO",
        "outputId": "bad2f67d-5783-4ef0-a581-03fe51866256"
      },
      "outputs": [
        {
          "name": "stdout",
          "output_type": "stream",
          "text": [
            "(55000, 28, 28)\n",
            "(5000, 28, 28)\n"
          ]
        }
      ],
      "source": [
        "print(X_train.shape)\n",
        "print(X_valid.shape)"
      ]
    },
    {
      "cell_type": "markdown",
      "metadata": {
        "id": "V2Kv7eUp9bzO"
      },
      "source": [
        "Each pixel intensity is represented as a byte (0 to 255):"
      ]
    },
    {
      "cell_type": "code",
      "execution_count": 17,
      "metadata": {
        "id": "D9t40YS79bzO",
        "outputId": "04dc11ae-0c9c-4ba4-9de2-523696bd397e"
      },
      "outputs": [
        {
          "data": {
            "text/plain": [
              "dtype('uint8')"
            ]
          },
          "execution_count": 17,
          "metadata": {},
          "output_type": "execute_result"
        }
      ],
      "source": [
        "X_train.dtype"
      ]
    },
    {
      "cell_type": "markdown",
      "metadata": {
        "id": "mKSJDRi99bzO"
      },
      "source": [
        "Let's scale the pixel intensities down to the 0-1 range and convert them to floats, by dividing by 255:"
      ]
    },
    {
      "cell_type": "code",
      "execution_count": 18,
      "metadata": {
        "id": "5vQUq3_f9bzO"
      },
      "outputs": [],
      "source": [
        "X_train, X_valid, X_test = X_train / 255., X_valid / 255., X_test / 255."
      ]
    },
    {
      "cell_type": "markdown",
      "metadata": {
        "id": "qImqfWSm9bzO"
      },
      "source": [
        "You can plot an image using Matplotlib's `imshow()` function, with a `'binary'`\n",
        " color map:"
      ]
    },
    {
      "cell_type": "code",
      "execution_count": 19,
      "metadata": {
        "id": "xg_hFdpI9bzO",
        "outputId": "d5db20cb-4f3f-48cb-980d-a9287554da51"
      },
      "outputs": [
        {
          "data": {
            "image/png": "[encoded data removed]",
            "text/plain": [
              "<Figure size 640x480 with 1 Axes>"
            ]
          },
          "metadata": {},
          "output_type": "display_data"
        }
      ],
      "source": [
        "# extra code\n",
        "\n",
        "plt.imshow(X_train[0], cmap=\"binary\")\n",
        "plt.axis('off')\n",
        "plt.show()"
      ]
    },
    {
      "cell_type": "markdown",
      "metadata": {
        "id": "RIyNwAJn9bzS"
      },
      "source": [
        "The labels are the class IDs (represented as uint8), from 0 to 9:"
      ]
    },
    {
      "cell_type": "code",
      "execution_count": 20,
      "metadata": {
        "id": "LiKrPhSX9bzS",
        "outputId": "57db3da8-1cf6-4634-84c7-602aa9a2b46c"
      },
      "outputs": [
        {
          "data": {
            "text/plain": [
              "(array([0, 1, 2, 3, 4, 5, 6, 7, 8, 9], dtype=uint8),\n",
              " array([5479, 5503, 5510, 5492, 5473, 5497, 5533, 5550, 5485, 5478],\n",
              "       dtype=int64))"
            ]
          },
          "execution_count": 20,
          "metadata": {},
          "output_type": "execute_result"
        }
      ],
      "source": [
        "y_train\n",
        "np.unique(y_train, return_counts = True) # jks"
      ]
    },
    {
      "cell_type": "markdown",
      "metadata": {
        "id": "vFNPCUFo9bzS"
      },
      "source": [
        "Here are the corresponding class names:"
      ]
    },
    {
      "cell_type": "code",
      "execution_count": 21,
      "metadata": {
        "id": "uS4ARII49bzS"
      },
      "outputs": [],
      "source": [
        "class_names = [\"T-shirt/top\", \"Trouser\", \"Pullover\", \"Dress\", \"Coat\",\n",
        "               \"Sandal\", \"Shirt\", \"Sneaker\", \"Bag\", \"Ankle boot\"]"
      ]
    },
    {
      "cell_type": "markdown",
      "metadata": {
        "id": "Q0Ekitft9bzS"
      },
      "source": [
        "So the first image in the training set is an ankle boot:"
      ]
    },
    {
      "cell_type": "code",
      "execution_count": 22,
      "metadata": {
        "id": "Wu_MKAwg9bzS",
        "outputId": "d6bbbcf9-0bec-42b9-9d0c-0336f6c9a50c"
      },
      "outputs": [
        {
          "data": {
            "text/plain": [
              "'Ankle boot'"
            ]
          },
          "execution_count": 22,
          "metadata": {},
          "output_type": "execute_result"
        }
      ],
      "source": [
        "class_names[y_train[0]]"
      ]
    },
    {
      "cell_type": "markdown",
      "metadata": {
        "id": "-NOxOu_g9bzS"
      },
      "source": [
        "Let's take a look at a sample of the images in the dataset:"
      ]
    },
    {
      "cell_type": "code",
      "execution_count": 23,
      "metadata": {
        "id": "MGSwCy0e9bzS",
        "outputId": "27ffbcdc-cedf-4fd1-8834-d580e46842a5"
      },
      "outputs": [
        {
          "data": {
            "image/png": "[encoded data removed]",
            "text/plain": [
              "<Figure size 1200x480 with 40 Axes>"
            ]
          },
          "metadata": {},
          "output_type": "display_data"
        }
      ],
      "source": [
        "# extra code – this cell generates and saves Figure 10–10\n",
        "\n",
        "n_rows = 4\n",
        "n_cols = 10\n",
        "plt.figure(figsize=(n_cols * 1.2, n_rows * 1.2))\n",
        "for row in range(n_rows):\n",
        "    for col in range(n_cols):\n",
        "        index = n_cols * row + col\n",
        "        plt.subplot(n_rows, n_cols, index + 1)\n",
        "        plt.imshow(X_train[index], cmap=\"binary\", interpolation=\"nearest\")\n",
        "        plt.axis('off')\n",
        "        plt.title(class_names[y_train[index]])\n",
        "plt.subplots_adjust(wspace=0.2, hspace=0.5)\n",
        "\n",
        "save_fig(\"fashion_mnist_plot\")\n",
        "plt.show()"
      ]
    },
    {
      "cell_type": "markdown",
      "metadata": {
        "id": "BkMBCITG9bzS"
      },
      "source": [
        "### Creating the model using the Sequential API"
      ]
    },
    {
      "cell_type": "code",
      "execution_count": 24,
      "metadata": {
        "id": "uXc-Tl6r9bzS"
      },
      "outputs": [],
      "source": [
        "tf.random.set_seed(42)\n",
        "model = tf.keras.Sequential()\n",
        "model.add(tf.keras.layers.InputLayer(input_shape=[28, 28]))\n",
        "model.add(tf.keras.layers.Flatten())\n",
        "model.add(tf.keras.layers.Dense(300, activation=\"relu\"))\n",
        "model.add(tf.keras.layers.Dense(100, activation=\"relu\"))\n",
        "model.add(tf.keras.layers.Dense(10, activation=\"softmax\"))"
      ]
    },
    {
      "cell_type": "code",
      "execution_count": 25,
      "metadata": {
        "id": "2UdJlwq69bzS"
      },
      "outputs": [],
      "source": [
        "# extra code – clear the session to reset the name counters\n",
        "tf.keras.backend.clear_session()\n",
        "tf.random.set_seed(42)\n",
        "\n",
        "model = tf.keras.Sequential([\n",
        "    tf.keras.layers.Flatten(input_shape=[28, 28]),\n",
        "    tf.keras.layers.Dense(300, activation=\"relu\"),\n",
        "    tf.keras.layers.Dense(100, activation=\"relu\"),\n",
        "    tf.keras.layers.Dense(10, activation=\"softmax\")\n",
        "])"
      ]
    },
    {
      "cell_type": "code",
      "execution_count": 26,
      "metadata": {
        "id": "1bbk4qFh9bzT",
        "outputId": "dfe0b890-d642-48fc-c36e-bda6c5b79729"
      },
      "outputs": [
        {
          "name": "stdout",
          "output_type": "stream",
          "text": [
            "Model: \"sequential\"\n",
            "_________________________________________________________________\n",
            " Layer (type)                Output Shape              Param #   \n",
            "=================================================================\n",
            " flatten (Flatten)           (None, 784)               0         \n",
            "                                                                 \n",
            " dense (Dense)               (None, 300)               235500    \n",
            "                                                                 \n",
            " dense_1 (Dense)             (None, 100)               30100     \n",
            "                                                                 \n",
            " dense_2 (Dense)             (None, 10)                1010      \n",
            "                                                                 \n",
            "=================================================================\n",
            "Total params: 266610 (1.02 MB)\n",
            "Trainable params: 266610 (1.02 MB)\n",
            "Non-trainable params: 0 (0.00 Byte)\n",
            "_________________________________________________________________\n"
          ]
        }
      ],
      "source": [
        "model.summary()"
      ]
    },
    {
      "cell_type": "code",
      "execution_count": 27,
      "metadata": {
        "id": "EIokh7ff9bzT",
        "outputId": "8b519848-3446-46ca-e33a-aac6bd195a02"
      },
      "outputs": [
        {
          "name": "stdout",
          "output_type": "stream",
          "text": [
            "You must install pydot (`pip install pydot`) and install graphviz (see instructions at https://graphviz.gitlab.io/download/) for plot_model to work.\n"
          ]
        }
      ],
      "source": [
        "# extra code – another way to display the model's architecture\n",
        "tf.keras.utils.plot_model(model, \"my_fashion_mnist_model.png\", show_shapes=True)"
      ]
    },
    {
      "cell_type": "code",
      "execution_count": 28,
      "metadata": {
        "id": "Edsqxwfa9bzT",
        "outputId": "16537ec4-5091-4d4d-ffab-fc147ae53bab"
      },
      "outputs": [
        {
          "data": {
            "text/plain": [
              "[<keras.src.layers.reshaping.flatten.Flatten at 0x20786327490>,\n",
              " <keras.src.layers.core.dense.Dense at 0x207849e4d10>,\n",
              " <keras.src.layers.core.dense.Dense at 0x207863ad550>,\n",
              " <keras.src.layers.core.dense.Dense at 0x207aaa90550>]"
            ]
          },
          "execution_count": 28,
          "metadata": {},
          "output_type": "execute_result"
        }
      ],
      "source": [
        "model.layers"
      ]
    },
    {
      "cell_type": "code",
      "execution_count": 29,
      "metadata": {
        "id": "gq9MT6Yk9bzT",
        "outputId": "73c40bac-e7aa-4690-8455-184596275fd0"
      },
      "outputs": [
        {
          "data": {
            "text/plain": [
              "'dense'"
            ]
          },
          "execution_count": 29,
          "metadata": {},
          "output_type": "execute_result"
        }
      ],
      "source": [
        "hidden1 = model.layers[1]\n",
        "hidden1.name"
      ]
    },
    {
      "cell_type": "code",
      "execution_count": 30,
      "metadata": {
        "id": "dQ_AhoNg9bzT",
        "outputId": "ff0aa48e-7d83-4b67-f26a-ae43e86c649b"
      },
      "outputs": [
        {
          "data": {
            "text/plain": [
              "True"
            ]
          },
          "execution_count": 30,
          "metadata": {},
          "output_type": "execute_result"
        }
      ],
      "source": [
        "model.get_layer('dense') is hidden1"
      ]
    },
    {
      "cell_type": "code",
      "execution_count": 31,
      "metadata": {
        "id": "3TsYvflN9bzT",
        "outputId": "05011c5e-b2d6-4486-9c23-a9bf53fd3a53"
      },
      "outputs": [
        {
          "data": {
            "text/plain": [
              "array([[-0.05571126, -0.02431024,  0.00463089, ..., -0.05772801,\n",
              "         0.02261658,  0.07019898],\n",
              "       [ 0.01411309,  0.00443383,  0.01675481, ...,  0.03331625,\n",
              "        -0.0708924 , -0.01011196],\n",
              "       [ 0.01745883, -0.04387925,  0.06702715, ...,  0.01447145,\n",
              "         0.07000884, -0.0642677 ],\n",
              "       ...,\n",
              "       [-0.0177168 , -0.04793917,  0.04790053, ...,  0.0163645 ,\n",
              "        -0.02129016,  0.07321887],\n",
              "       [ 0.03093477,  0.01860057,  0.05292752, ..., -0.03105059,\n",
              "        -0.05207121,  0.02494992],\n",
              "       [-0.06141434, -0.03725442,  0.01789143, ..., -0.07047517,\n",
              "        -0.05890843,  0.01075939]], dtype=float32)"
            ]
          },
          "execution_count": 31,
          "metadata": {},
          "output_type": "execute_result"
        }
      ],
      "source": [
        "weights, biases = hidden1.get_weights()\n",
        "weights"
      ]
    },
    {
      "cell_type": "code",
      "execution_count": 32,
      "metadata": {
        "id": "WlAO6c4L9bzT",
        "outputId": "fef94481-1149-460c-91de-82c7f86837d3"
      },
      "outputs": [
        {
          "data": {
            "text/plain": [
              "(784, 300)"
            ]
          },
          "execution_count": 32,
          "metadata": {},
          "output_type": "execute_result"
        }
      ],
      "source": [
        "weights.shape"
      ]
    },
    {
      "cell_type": "code",
      "execution_count": 33,
      "metadata": {
        "id": "3N9f4f1j9bzT",
        "outputId": "61b8f167-53da-40da-fc16-fe02ae183372"
      },
      "outputs": [
        {
          "data": {
            "text/plain": [
              "array([0., 0., 0., 0., 0., 0., 0., 0., 0., 0., 0., 0., 0., 0., 0., 0., 0.,\n",
              "       0., 0., 0., 0., 0., 0., 0., 0., 0., 0., 0., 0., 0., 0., 0., 0., 0.,\n",
              "       0., 0., 0., 0., 0., 0., 0., 0., 0., 0., 0., 0., 0., 0., 0., 0., 0.,\n",
              "       0., 0., 0., 0., 0., 0., 0., 0., 0., 0., 0., 0., 0., 0., 0., 0., 0.,\n",
              "       0., 0., 0., 0., 0., 0., 0., 0., 0., 0., 0., 0., 0., 0., 0., 0., 0.,\n",
              "       0., 0., 0., 0., 0., 0., 0., 0., 0., 0., 0., 0., 0., 0., 0., 0., 0.,\n",
              "       0., 0., 0., 0., 0., 0., 0., 0., 0., 0., 0., 0., 0., 0., 0., 0., 0.,\n",
              "       0., 0., 0., 0., 0., 0., 0., 0., 0., 0., 0., 0., 0., 0., 0., 0., 0.,\n",
              "       0., 0., 0., 0., 0., 0., 0., 0., 0., 0., 0., 0., 0., 0., 0., 0., 0.,\n",
              "       0., 0., 0., 0., 0., 0., 0., 0., 0., 0., 0., 0., 0., 0., 0., 0., 0.,\n",
              "       0., 0., 0., 0., 0., 0., 0., 0., 0., 0., 0., 0., 0., 0., 0., 0., 0.,\n",
              "       0., 0., 0., 0., 0., 0., 0., 0., 0., 0., 0., 0., 0., 0., 0., 0., 0.,\n",
              "       0., 0., 0., 0., 0., 0., 0., 0., 0., 0., 0., 0., 0., 0., 0., 0., 0.,\n",
              "       0., 0., 0., 0., 0., 0., 0., 0., 0., 0., 0., 0., 0., 0., 0., 0., 0.,\n",
              "       0., 0., 0., 0., 0., 0., 0., 0., 0., 0., 0., 0., 0., 0., 0., 0., 0.,\n",
              "       0., 0., 0., 0., 0., 0., 0., 0., 0., 0., 0., 0., 0., 0., 0., 0., 0.,\n",
              "       0., 0., 0., 0., 0., 0., 0., 0., 0., 0., 0., 0., 0., 0., 0., 0., 0.,\n",
              "       0., 0., 0., 0., 0., 0., 0., 0., 0., 0., 0.], dtype=float32)"
            ]
          },
          "execution_count": 33,
          "metadata": {},
          "output_type": "execute_result"
        }
      ],
      "source": [
        "biases"
      ]
    },
    {
      "cell_type": "code",
      "execution_count": 34,
      "metadata": {
        "id": "bZcPMTkP9bzT",
        "outputId": "600711c2-f6dd-4526-99f5-89406518d268"
      },
      "outputs": [
        {
          "data": {
            "text/plain": [
              "(300,)"
            ]
          },
          "execution_count": 34,
          "metadata": {},
          "output_type": "execute_result"
        }
      ],
      "source": [
        "biases.shape"
      ]
    },
    {
      "cell_type": "markdown",
      "metadata": {
        "id": "AG-WZStc9bzT"
      },
      "source": [
        "### Compiling the model"
      ]
    },
    {
      "cell_type": "code",
      "execution_count": 35,
      "metadata": {
        "id": "ylN-s4ti9bzT"
      },
      "outputs": [],
      "source": [
        "model.compile(loss=\"sparse_categorical_crossentropy\",\n",
        "              optimizer=\"sgd\",\n",
        "              metrics=[\"accuracy\"])"
      ]
    },
    {
      "cell_type": "markdown",
      "metadata": {
        "id": "PoxW1UK-9bzT"
      },
      "source": [
        "This is equivalent to:"
      ]
    },
    {
      "cell_type": "code",
      "execution_count": 36,
      "metadata": {
        "id": "K6D6hrYm9bzT"
      },
      "outputs": [],
      "source": [
        "# extra code – this cell is equivalent to the previous cell\n",
        "model.compile(loss=tf.keras.losses.sparse_categorical_crossentropy,\n",
        "              optimizer=tf.keras.optimizers.SGD(),\n",
        "              metrics=[tf.keras.metrics.sparse_categorical_accuracy])"
      ]
    },
    {
      "cell_type": "code",
      "execution_count": 37,
      "metadata": {
        "id": "fj7JU1b-9bzT",
        "outputId": "dde905ee-6654-4286-eae7-440922863cdc"
      },
      "outputs": [
        {
          "data": {
            "text/plain": [
              "array([[1., 0., 0., 0., 0., 0., 0., 0., 0., 0.],\n",
              "       [0., 0., 0., 0., 0., 1., 0., 0., 0., 0.],\n",
              "       [0., 1., 0., 0., 0., 0., 0., 0., 0., 0.],\n",
              "       [1., 0., 0., 0., 0., 0., 0., 0., 0., 0.]], dtype=float32)"
            ]
          },
          "execution_count": 37,
          "metadata": {},
          "output_type": "execute_result"
        }
      ],
      "source": [
        "# extra code – shows how to convert class ids to one-hot vectors\n",
        "tf.keras.utils.to_categorical([0, 5, 1, 0], num_classes=10)"
      ]
    },
    {
      "cell_type": "markdown",
      "metadata": {
        "id": "lZVxnbhE9bzU"
      },
      "source": [
        "Note: it's important to set `num_classes` when the number of classes is greater than the maximum class id in the sample."
      ]
    },
    {
      "cell_type": "code",
      "execution_count": 38,
      "metadata": {
        "id": "L-Y9b6-I9bzU",
        "outputId": "e84fffeb-90a8-453f-c31b-be80700f1a1f"
      },
      "outputs": [
        {
          "data": {
            "text/plain": [
              "array([0, 5, 1, 0], dtype=int64)"
            ]
          },
          "execution_count": 38,
          "metadata": {},
          "output_type": "execute_result"
        }
      ],
      "source": [
        "# extra code – shows how to convert one-hot vectors to class ids\n",
        "np.argmax(\n",
        "    [[1., 0., 0., 0., 0., 0., 0., 0., 0., 0.],\n",
        "     [0., 0., 0., 0., 0., 1., 0., 0., 0., 0.],\n",
        "     [0., 1., 0., 0., 0., 0., 0., 0., 0., 0.],\n",
        "     [1., 0., 0., 0., 0., 0., 0., 0., 0., 0.]],\n",
        "    axis=1\n",
        ")"
      ]
    },
    {
      "cell_type": "markdown",
      "metadata": {
        "id": "9mDc4yvD9bzU"
      },
      "source": [
        "### Training and evaluating the model"
      ]
    },
    {
      "cell_type": "code",
      "execution_count": 39,
      "metadata": {
        "id": "H_Zlzh1x9bzU",
        "outputId": "836142af-f7f6-4821-b0d3-def81ad0edc3"
      },
      "outputs": [
        {
          "name": "stdout",
          "output_type": "stream",
          "text": [
            "Epoch 1/30\n",
            " 348/1719 [=====>........................] - ETA: 2s - loss: 1.1759 - sparse_categorical_accuracy: 0.6383"
          ]
        },
        {
          "name": "stdout",
          "output_type": "stream",
          "text": [
            "1719/1719 [==============================] - 4s 2ms/step - loss: 0.7181 - sparse_categorical_accuracy: 0.7633 - val_loss: 0.5042 - val_sparse_categorical_accuracy: 0.8256\n",
            "Epoch 2/30\n",
            "1719/1719 [==============================] - 4s 2ms/step - loss: 0.4864 - sparse_categorical_accuracy: 0.8303 - val_loss: 0.4583 - val_sparse_categorical_accuracy: 0.8330\n",
            "Epoch 3/30\n",
            "1719/1719 [==============================] - 4s 2ms/step - loss: 0.4395 - sparse_categorical_accuracy: 0.8456 - val_loss: 0.4265 - val_sparse_categorical_accuracy: 0.8482\n",
            "Epoch 4/30\n",
            "1719/1719 [==============================] - 3s 2ms/step - loss: 0.4143 - sparse_categorical_accuracy: 0.8549 - val_loss: 0.3928 - val_sparse_categorical_accuracy: 0.8592\n",
            "Epoch 5/30\n",
            "1719/1719 [==============================] - 3s 2ms/step - loss: 0.3935 - sparse_categorical_accuracy: 0.8620 - val_loss: 0.3942 - val_sparse_categorical_accuracy: 0.8590\n",
            "Epoch 6/30\n",
            "1719/1719 [==============================] - 3s 2ms/step - loss: 0.3771 - sparse_categorical_accuracy: 0.8667 - val_loss: 0.3927 - val_sparse_categorical_accuracy: 0.8610\n",
            "Epoch 7/30\n",
            "1719/1719 [==============================] - 6s 4ms/step - loss: 0.3651 - sparse_categorical_accuracy: 0.8700 - val_loss: 0.3696 - val_sparse_categorical_accuracy: 0.8722\n",
            "Epoch 8/30\n",
            "1719/1719 [==============================] - 4s 2ms/step - loss: 0.3536 - sparse_categorical_accuracy: 0.8751 - val_loss: 0.3735 - val_sparse_categorical_accuracy: 0.8626\n",
            "Epoch 9/30\n",
            "1719/1719 [==============================] - 3s 2ms/step - loss: 0.3434 - sparse_categorical_accuracy: 0.8785 - val_loss: 0.3531 - val_sparse_categorical_accuracy: 0.8756\n",
            "Epoch 10/30\n",
            "1719/1719 [==============================] - 3s 2ms/step - loss: 0.3332 - sparse_categorical_accuracy: 0.8817 - val_loss: 0.3521 - val_sparse_categorical_accuracy: 0.8766\n",
            "Epoch 11/30\n",
            "1719/1719 [==============================] - 3s 2ms/step - loss: 0.3249 - sparse_categorical_accuracy: 0.8847 - val_loss: 0.3727 - val_sparse_categorical_accuracy: 0.8632\n",
            "Epoch 12/30\n",
            "1719/1719 [==============================] - 4s 2ms/step - loss: 0.3172 - sparse_categorical_accuracy: 0.8867 - val_loss: 0.3515 - val_sparse_categorical_accuracy: 0.8714\n",
            "Epoch 13/30\n",
            "1719/1719 [==============================] - 4s 2ms/step - loss: 0.3099 - sparse_categorical_accuracy: 0.8903 - val_loss: 0.3330 - val_sparse_categorical_accuracy: 0.8794\n",
            "Epoch 14/30\n",
            "1719/1719 [==============================] - 3s 2ms/step - loss: 0.3024 - sparse_categorical_accuracy: 0.8923 - val_loss: 0.3423 - val_sparse_categorical_accuracy: 0.8780\n",
            "Epoch 15/30\n",
            "1719/1719 [==============================] - 3s 2ms/step - loss: 0.2968 - sparse_categorical_accuracy: 0.8949 - val_loss: 0.3366 - val_sparse_categorical_accuracy: 0.8798\n",
            "Epoch 16/30\n",
            "1719/1719 [==============================] - 3s 2ms/step - loss: 0.2893 - sparse_categorical_accuracy: 0.8959 - val_loss: 0.3308 - val_sparse_categorical_accuracy: 0.8794\n",
            "Epoch 17/30\n",
            "1719/1719 [==============================] - 3s 2ms/step - loss: 0.2844 - sparse_categorical_accuracy: 0.8976 - val_loss: 0.3325 - val_sparse_categorical_accuracy: 0.8794\n",
            "Epoch 18/30\n",
            "1719/1719 [==============================] - 3s 2ms/step - loss: 0.2787 - sparse_categorical_accuracy: 0.9002 - val_loss: 0.3283 - val_sparse_categorical_accuracy: 0.8814\n",
            "Epoch 19/30\n",
            "1719/1719 [==============================] - 3s 2ms/step - loss: 0.2736 - sparse_categorical_accuracy: 0.9015 - val_loss: 0.3570 - val_sparse_categorical_accuracy: 0.8642\n",
            "Epoch 20/30\n",
            "1719/1719 [==============================] - 3s 2ms/step - loss: 0.2684 - sparse_categorical_accuracy: 0.9037 - val_loss: 0.3202 - val_sparse_categorical_accuracy: 0.8840\n",
            "Epoch 21/30\n",
            "1719/1719 [==============================] - 3s 2ms/step - loss: 0.2632 - sparse_categorical_accuracy: 0.9055 - val_loss: 0.3170 - val_sparse_categorical_accuracy: 0.8840\n",
            "Epoch 22/30\n",
            "1719/1719 [==============================] - 3s 2ms/step - loss: 0.2582 - sparse_categorical_accuracy: 0.9067 - val_loss: 0.3123 - val_sparse_categorical_accuracy: 0.8838\n",
            "Epoch 23/30\n",
            "1719/1719 [==============================] - 3s 2ms/step - loss: 0.2541 - sparse_categorical_accuracy: 0.9095 - val_loss: 0.3456 - val_sparse_categorical_accuracy: 0.8746\n",
            "Epoch 24/30\n",
            "1719/1719 [==============================] - 3s 2ms/step - loss: 0.2487 - sparse_categorical_accuracy: 0.9113 - val_loss: 0.3246 - val_sparse_categorical_accuracy: 0.8836\n",
            "Epoch 25/30\n",
            "1719/1719 [==============================] - 3s 2ms/step - loss: 0.2444 - sparse_categorical_accuracy: 0.9125 - val_loss: 0.3147 - val_sparse_categorical_accuracy: 0.8838\n",
            "Epoch 26/30\n",
            "1719/1719 [==============================] - 3s 2ms/step - loss: 0.2409 - sparse_categorical_accuracy: 0.9138 - val_loss: 0.3124 - val_sparse_categorical_accuracy: 0.8860\n",
            "Epoch 27/30\n",
            "1719/1719 [==============================] - 3s 2ms/step - loss: 0.2359 - sparse_categorical_accuracy: 0.9145 - val_loss: 0.3228 - val_sparse_categorical_accuracy: 0.8870\n",
            "Epoch 28/30\n",
            "1719/1719 [==============================] - 3s 2ms/step - loss: 0.2326 - sparse_categorical_accuracy: 0.9163 - val_loss: 0.3133 - val_sparse_categorical_accuracy: 0.8898\n",
            "Epoch 29/30\n",
            "1719/1719 [==============================] - 3s 2ms/step - loss: 0.2287 - sparse_categorical_accuracy: 0.9180 - val_loss: 0.3122 - val_sparse_categorical_accuracy: 0.8866\n",
            "Epoch 30/30\n",
            "1719/1719 [==============================] - 3s 2ms/step - loss: 0.2253 - sparse_categorical_accuracy: 0.9203 - val_loss: 0.3147 - val_sparse_categorical_accuracy: 0.8856\n"
          ]
        }
      ],
      "source": [
        "history = model.fit(X_train, y_train, epochs=30,\n",
        "                    validation_data=(X_valid, y_valid))"
      ]
    },
    {
      "cell_type": "code",
      "execution_count": 40,
      "metadata": {
        "id": "wplNCIjv9bzU",
        "outputId": "c9110a98-9ed4-46a7-e904-9735bcf12d26"
      },
      "outputs": [
        {
          "data": {
            "text/plain": [
              "{'verbose': 1, 'epochs': 30, 'steps': 1719}"
            ]
          },
          "execution_count": 40,
          "metadata": {},
          "output_type": "execute_result"
        }
      ],
      "source": [
        "history.params"
      ]
    },
    {
      "cell_type": "code",
      "execution_count": 41,
      "metadata": {
        "id": "Pz_ZvR0S9bzU",
        "outputId": "66f0d20a-ee21-4b8e-cf07-73ace3fbd95c"
      },
      "outputs": [
        {
          "name": "stdout",
          "output_type": "stream",
          "text": [
            "[0, 1, 2, 3, 4, 5, 6, 7, 8, 9, 10, 11, 12, 13, 14, 15, 16, 17, 18, 19, 20, 21, 22, 23, 24, 25, 26, 27, 28, 29]\n"
          ]
        }
      ],
      "source": [
        "print(history.epoch)"
      ]
    },
    {
      "cell_type": "code",
      "execution_count": 42,
      "metadata": {
        "id": "sndblbXG9bzU",
        "outputId": "91ad5349-c289-4191-e46a-54d630477f0f"
      },
      "outputs": [
        {
          "data": {
            "image/png": "[encoded data removed]",
            "text/plain": [
              "<Figure size 800x500 with 1 Axes>"
            ]
          },
          "metadata": {},
          "output_type": "display_data"
        }
      ],
      "source": [
        "import matplotlib.pyplot as plt\n",
        "import pandas as pd\n",
        "\n",
        "pd.DataFrame(history.history).plot(\n",
        "    figsize=(8, 5), xlim=[0, 29], ylim=[0, 1], grid=True, xlabel=\"Epoch\",\n",
        "    style=[\"r--\", \"r--.\", \"b-\", \"b-*\"])\n",
        "plt.legend(loc=\"lower left\")  # extra code\n",
        "save_fig(\"keras_learning_curves_plot\")  # extra code\n",
        "plt.show()"
      ]
    },
    {
      "cell_type": "code",
      "execution_count": 43,
      "metadata": {
        "id": "q_-K-57_9bzU",
        "outputId": "760ede49-0449-417e-b17c-be2f9bd61092"
      },
      "outputs": [
        {
          "data": {
            "image/png": "[encoded data removed]",
            "text/plain": [
              "<Figure size 800x500 with 1 Axes>"
            ]
          },
          "metadata": {},
          "output_type": "display_data"
        }
      ],
      "source": [
        "# extra code – shows how to shift the training curve by -1/2 epoch\n",
        "plt.figure(figsize=(8, 5))\n",
        "for key, style in zip(history.history, [\"r--\", \"r--.\", \"b-\", \"b-*\"]):\n",
        "    epochs = np.array(history.epoch) + (0 if key.startswith(\"val_\") else -0.5)\n",
        "    plt.plot(epochs, history.history[key], style, label=key)\n",
        "plt.xlabel(\"Epoch\")\n",
        "plt.axis([-0.5, 29, 0., 1])\n",
        "plt.legend(loc=\"lower left\")\n",
        "plt.grid()\n",
        "plt.show()"
      ]
    },
    {
      "cell_type": "code",
      "execution_count": 44,
      "metadata": {
        "id": "70KeANd_9bzU",
        "outputId": "80c49b5f-ddc7-4423-a713-79f9ee9aea67"
      },
      "outputs": [
        {
          "name": "stdout",
          "output_type": "stream",
          "text": [
            "  1/313 [..............................] - ETA: 4s - loss: 0.3971 - sparse_categorical_accuracy: 0.9062"
          ]
        },
        {
          "name": "stdout",
          "output_type": "stream",
          "text": [
            "313/313 [==============================] - 0s 1ms/step - loss: 0.3314 - sparse_categorical_accuracy: 0.8848\n"
          ]
        },
        {
          "data": {
            "text/plain": [
              "[0.3313736617565155, 0.8848000168800354]"
            ]
          },
          "execution_count": 44,
          "metadata": {},
          "output_type": "execute_result"
        }
      ],
      "source": [
        "model.evaluate(X_test, y_test)"
      ]
    },
    {
      "cell_type": "markdown",
      "metadata": {
        "id": "EUc1s8sC9bzU"
      },
      "source": [
        "### Using the model to make predictions"
      ]
    },
    {
      "cell_type": "code",
      "execution_count": 45,
      "metadata": {
        "id": "GevmXg_39bzU",
        "outputId": "e81a0211-d1fb-4923-b40a-fe75a5a7d414"
      },
      "outputs": [
        {
          "name": "stdout",
          "output_type": "stream",
          "text": [
            "1/1 [==============================] - 0s 60ms/step\n"
          ]
        },
        {
          "data": {
            "text/plain": [
              "array([[0.  , 0.  , 0.  , 0.  , 0.  , 0.  , 0.  , 0.03, 0.  , 0.97],\n",
              "       [0.  , 0.  , 1.  , 0.  , 0.  , 0.  , 0.  , 0.  , 0.  , 0.  ],\n",
              "       [0.  , 1.  , 0.  , 0.  , 0.  , 0.  , 0.  , 0.  , 0.  , 0.  ]],\n",
              "      dtype=float32)"
            ]
          },
          "execution_count": 45,
          "metadata": {},
          "output_type": "execute_result"
        }
      ],
      "source": [
        "X_new = X_test[:3]\n",
        "y_proba = model.predict(X_new)\n",
        "y_proba.round(2)"
      ]
    },
    {
      "cell_type": "code",
      "execution_count": 46,
      "metadata": {
        "id": "EvYMU39L9bzU",
        "outputId": "6a5e1192-92db-4ca6-91d7-15c64daeb282"
      },
      "outputs": [
        {
          "data": {
            "text/plain": [
              "array([9, 2, 1], dtype=int64)"
            ]
          },
          "execution_count": 46,
          "metadata": {},
          "output_type": "execute_result"
        }
      ],
      "source": [
        "y_pred = y_proba.argmax(axis=-1)\n",
        "y_pred"
      ]
    },
    {
      "cell_type": "code",
      "execution_count": 47,
      "metadata": {
        "id": "I5wD05W79bzU",
        "outputId": "ad6ef82a-16d4-421c-d4ff-570a40831f0e"
      },
      "outputs": [
        {
          "data": {
            "text/plain": [
              "array(['Ankle boot', 'Pullover', 'Trouser'], dtype='<U11')"
            ]
          },
          "execution_count": 47,
          "metadata": {},
          "output_type": "execute_result"
        }
      ],
      "source": [
        "np.array(class_names)[y_pred]"
      ]
    },
    {
      "cell_type": "code",
      "execution_count": 48,
      "metadata": {
        "id": "oRZKyAo49bzU",
        "outputId": "9c97c470-7a0a-4197-9f11-94c29e5bde2d"
      },
      "outputs": [
        {
          "data": {
            "text/plain": [
              "array([9, 2, 1], dtype=uint8)"
            ]
          },
          "execution_count": 48,
          "metadata": {},
          "output_type": "execute_result"
        }
      ],
      "source": [
        "y_new = y_test[:3]\n",
        "y_new"
      ]
    },
    {
      "cell_type": "code",
      "execution_count": 49,
      "metadata": {
        "id": "PKl_GXQm9bzV",
        "outputId": "a46c5e2f-0907-479c-d554-850f0370527e"
      },
      "outputs": [
        {
          "data": {
            "image/png": "[encoded data removed]",
            "text/plain": [
              "<Figure size 720x240 with 3 Axes>"
            ]
          },
          "metadata": {},
          "output_type": "display_data"
        }
      ],
      "source": [
        "# extra code – this cell generates and saves Figure 10–12\n",
        "plt.figure(figsize=(7.2, 2.4))\n",
        "for index, image in enumerate(X_new):\n",
        "    plt.subplot(1, 3, index + 1)\n",
        "    plt.imshow(image, cmap=\"binary\", interpolation=\"nearest\")\n",
        "    plt.axis('off')\n",
        "    plt.title(class_names[y_test[index]])\n",
        "plt.subplots_adjust(wspace=0.2, hspace=0.5)\n",
        "save_fig('fashion_mnist_images_plot', tight_layout=False)\n",
        "plt.show()"
      ]
    },
    {
      "cell_type": "markdown",
      "metadata": {
        "id": "BuN0yPKs9bzV"
      },
      "source": [
        "## Building a Regression MLP Using the Sequential API"
      ]
    },
    {
      "cell_type": "markdown",
      "metadata": {
        "id": "6nFdS56T9bzV"
      },
      "source": [
        "Let's load, split and scale the California housing dataset (the original one, not the modified one as in chapter 2):"
      ]
    },
    {
      "cell_type": "code",
      "execution_count": 50,
      "metadata": {
        "id": "-nZ-7W_Q9bzV"
      },
      "outputs": [],
      "source": [
        "# extra code – load and split the California housing dataset, like earlier\n",
        "housing = fetch_california_housing()\n",
        "X_train_full, X_test, y_train_full, y_test = train_test_split(\n",
        "    housing.data, housing.target, random_state=42)\n",
        "X_train, X_valid, y_train, y_valid = train_test_split(\n",
        "    X_train_full, y_train_full, random_state=42)"
      ]
    },
    {
      "cell_type": "code",
      "execution_count": 51,
      "metadata": {
        "id": "GUjEn7k_9bzV",
        "outputId": "a24c1bad-b116-4bbb-bd0f-53d220d7455f"
      },
      "outputs": [
        {
          "name": "stdout",
          "output_type": "stream",
          "text": [
            "Epoch 1/20\n",
            "363/363 [==============================] - 1s 1ms/step - loss: 0.9254 - root_mean_squared_error: 0.9620 - val_loss: 0.7007 - val_root_mean_squared_error: 0.8371\n",
            "Epoch 2/20\n",
            "363/363 [==============================] - 0s 983us/step - loss: 0.3835 - root_mean_squared_error: 0.6193 - val_loss: 1.4741 - val_root_mean_squared_error: 1.2141\n",
            "Epoch 3/20\n",
            "363/363 [==============================] - 0s 1ms/step - loss: 0.3635 - root_mean_squared_error: 0.6029 - val_loss: 0.3378 - val_root_mean_squared_error: 0.5812\n",
            "Epoch 4/20\n",
            "363/363 [==============================] - 0s 994us/step - loss: 0.3414 - root_mean_squared_error: 0.5843 - val_loss: 1.1577 - val_root_mean_squared_error: 1.0760\n",
            "Epoch 5/20\n",
            "363/363 [==============================] - 0s 991us/step - loss: 0.3281 - root_mean_squared_error: 0.5728 - val_loss: 2.6754 - val_root_mean_squared_error: 1.6357\n",
            "Epoch 6/20\n",
            "363/363 [==============================] - 0s 992us/step - loss: 0.3363 - root_mean_squared_error: 0.5799 - val_loss: 0.5550 - val_root_mean_squared_error: 0.7450\n",
            "Epoch 7/20\n",
            "363/363 [==============================] - 0s 1ms/step - loss: 0.3122 - root_mean_squared_error: 0.5588 - val_loss: 0.5480 - val_root_mean_squared_error: 0.7403\n",
            "Epoch 8/20\n",
            "363/363 [==============================] - 0s 1ms/step - loss: 0.3051 - root_mean_squared_error: 0.5524 - val_loss: 0.5726 - val_root_mean_squared_error: 0.7567\n",
            "Epoch 9/20\n",
            "363/363 [==============================] - 0s 1ms/step - loss: 0.2997 - root_mean_squared_error: 0.5475 - val_loss: 0.7493 - val_root_mean_squared_error: 0.8656\n",
            "Epoch 10/20\n",
            "363/363 [==============================] - 0s 1ms/step - loss: 0.2958 - root_mean_squared_error: 0.5439 - val_loss: 0.3100 - val_root_mean_squared_error: 0.5568\n",
            "Epoch 11/20\n",
            "363/363 [==============================] - 0s 998us/step - loss: 0.2869 - root_mean_squared_error: 0.5356 - val_loss: 0.2819 - val_root_mean_squared_error: 0.5310\n",
            "Epoch 12/20\n",
            "363/363 [==============================] - 0s 980us/step - loss: 0.2953 - root_mean_squared_error: 0.5434 - val_loss: 0.7206 - val_root_mean_squared_error: 0.8489\n",
            "Epoch 13/20\n",
            "363/363 [==============================] - 0s 1000us/step - loss: 0.2866 - root_mean_squared_error: 0.5354 - val_loss: 0.3092 - val_root_mean_squared_error: 0.5561\n",
            "Epoch 14/20\n",
            "363/363 [==============================] - 0s 983us/step - loss: 0.2815 - root_mean_squared_error: 0.5305 - val_loss: 0.4734 - val_root_mean_squared_error: 0.6880\n",
            "Epoch 15/20\n",
            "363/363 [==============================] - 0s 1ms/step - loss: 0.2808 - root_mean_squared_error: 0.5299 - val_loss: 0.5006 - val_root_mean_squared_error: 0.7076\n",
            "Epoch 16/20\n",
            "363/363 [==============================] - 0s 1ms/step - loss: 0.2780 - root_mean_squared_error: 0.5273 - val_loss: 0.3646 - val_root_mean_squared_error: 0.6038\n",
            "Epoch 17/20\n",
            "363/363 [==============================] - 0s 1ms/step - loss: 0.2756 - root_mean_squared_error: 0.5250 - val_loss: 0.3046 - val_root_mean_squared_error: 0.5519\n",
            "Epoch 18/20\n",
            "363/363 [==============================] - 0s 1ms/step - loss: 0.2705 - root_mean_squared_error: 0.5201 - val_loss: 0.6528 - val_root_mean_squared_error: 0.8080\n",
            "Epoch 19/20\n",
            "363/363 [==============================] - 0s 1ms/step - loss: 0.2705 - root_mean_squared_error: 0.5201 - val_loss: 0.3525 - val_root_mean_squared_error: 0.5937\n",
            "Epoch 20/20\n",
            "363/363 [==============================] - 0s 1ms/step - loss: 0.2713 - root_mean_squared_error: 0.5209 - val_loss: 0.4806 - val_root_mean_squared_error: 0.6933\n",
            "162/162 [==============================] - 0s 659us/step - loss: 0.2835 - root_mean_squared_error: 0.5325\n",
            "1/1 [==============================] - 0s 38ms/step\n"
          ]
        }
      ],
      "source": [
        "tf.random.set_seed(42)\n",
        "norm_layer = tf.keras.layers.Normalization(input_shape=X_train.shape[1:])\n",
        "model = tf.keras.Sequential([\n",
        "    norm_layer,\n",
        "    tf.keras.layers.Dense(50, activation=\"relu\"),\n",
        "    tf.keras.layers.Dense(50, activation=\"relu\"),\n",
        "    tf.keras.layers.Dense(50, activation=\"relu\"),\n",
        "    tf.keras.layers.Dense(1)\n",
        "])\n",
        "optimizer = tf.keras.optimizers.Adam(learning_rate=1e-3)\n",
        "model.compile(loss=\"mse\", optimizer=optimizer, metrics=[\"RootMeanSquaredError\"])\n",
        "norm_layer.adapt(X_train)\n",
        "history = model.fit(X_train, y_train, epochs=20,\n",
        "                    validation_data=(X_valid, y_valid))\n",
        "mse_test, rmse_test = model.evaluate(X_test, y_test)\n",
        "X_new = X_test[:3]\n",
        "y_pred = model.predict(X_new)"
      ]
    },
    {
      "cell_type": "code",
      "execution_count": 52,
      "metadata": {
        "id": "WPBg6XcN9bzV",
        "outputId": "e7502630-be68-475a-b5e3-d92fe87ffa88"
      },
      "outputs": [
        {
          "data": {
            "text/plain": [
              "0.532456636428833"
            ]
          },
          "execution_count": 52,
          "metadata": {},
          "output_type": "execute_result"
        }
      ],
      "source": [
        "rmse_test"
      ]
    },
    {
      "cell_type": "code",
      "execution_count": 53,
      "metadata": {},
      "outputs": [
        {
          "data": {
            "text/plain": [
              "array([[ 1.68120000e+00,  2.50000000e+01,  4.19220056e+00,\n",
              "         1.02228412e+00,  1.39200000e+03,  3.87743733e+00,\n",
              "         3.60600000e+01, -1.19010000e+02],\n",
              "       [ 2.53130000e+00,  3.00000000e+01,  5.03938356e+00,\n",
              "         1.19349315e+00,  1.56500000e+03,  2.67979452e+00,\n",
              "         3.51400000e+01, -1.19460000e+02],\n",
              "       [ 3.48010000e+00,  5.20000000e+01,  3.97715472e+00,\n",
              "         1.18587747e+00,  1.31000000e+03,  1.36033229e+00,\n",
              "         3.78000000e+01, -1.22440000e+02]])"
            ]
          },
          "execution_count": 53,
          "metadata": {},
          "output_type": "execute_result"
        }
      ],
      "source": [
        "X_new"
      ]
    },
    {
      "cell_type": "code",
      "execution_count": 54,
      "metadata": {
        "id": "TY9Bq2X89bzV",
        "outputId": "81030cbf-2e8f-46eb-e62f-e4c88e07fad2"
      },
      "outputs": [
        {
          "data": {
            "text/plain": [
              "array([[0.2965539],\n",
              "       [1.0016904],\n",
              "       [5.0459127]], dtype=float32)"
            ]
          },
          "execution_count": 54,
          "metadata": {},
          "output_type": "execute_result"
        }
      ],
      "source": [
        "y_pred"
      ]
    },
    {
      "cell_type": "markdown",
      "metadata": {
        "id": "vidZDGwM9bzV"
      },
      "source": [
        "## Building Complex Models Using the Functional API"
      ]
    },
    {
      "cell_type": "markdown",
      "metadata": {
        "id": "8uHpxjjn9bzV"
      },
      "source": [
        "Not all neural network models are simply sequential. Some may have complex topologies. Some may have multiple inputs and/or multiple outputs. For example, a Wide & Deep neural network (see [paper](https://ai.google/research/pubs/pub45413)) connects all or part of the inputs directly to the output layer."
      ]
    },
    {
      "cell_type": "code",
      "execution_count": 55,
      "metadata": {
        "id": "CTE2FY_29bzV"
      },
      "outputs": [],
      "source": [
        "# extra code – reset the name counters and make the code reproducible\n",
        "tf.keras.backend.clear_session()\n",
        "tf.random.set_seed(42)"
      ]
    },
    {
      "cell_type": "code",
      "execution_count": 56,
      "metadata": {
        "id": "b3d8-SnY9bzV"
      },
      "outputs": [],
      "source": [
        "normalization_layer = tf.keras.layers.Normalization()\n",
        "hidden_layer1 = tf.keras.layers.Dense(30, activation=\"relu\")\n",
        "hidden_layer2 = tf.keras.layers.Dense(30, activation=\"relu\")\n",
        "concat_layer = tf.keras.layers.Concatenate()\n",
        "output_layer = tf.keras.layers.Dense(1)\n",
        "\n",
        "input_ = tf.keras.layers.Input(shape=X_train.shape[1:])\n",
        "normalized = normalization_layer(input_)\n",
        "hidden1 = hidden_layer1(normalized)\n",
        "hidden2 = hidden_layer2(hidden1)\n",
        "concat = concat_layer([normalized, hidden2])\n",
        "output = output_layer(concat)\n",
        "\n",
        "model = tf.keras.Model(inputs=[input_], outputs=[output])"
      ]
    },
    {
      "cell_type": "code",
      "execution_count": 57,
      "metadata": {
        "id": "KxVw26Tw9bzV",
        "outputId": "ff03dbb0-ed88-4213-ff7c-b5189b01b465"
      },
      "outputs": [
        {
          "name": "stdout",
          "output_type": "stream",
          "text": [
            "Model: \"model\"\n",
            "__________________________________________________________________________________________________\n",
            " Layer (type)                Output Shape                 Param #   Connected to                  \n",
            "==================================================================================================\n",
            " input_1 (InputLayer)        [(None, 8)]                  0         []                            \n",
            "                                                                                                  \n",
            " normalization (Normalizati  (None, 8)                    17        ['input_1[0][0]']             \n",
            " on)                                                                                              \n",
            "                                                                                                  \n",
            " dense (Dense)               (None, 30)                   270       ['normalization[0][0]']       \n",
            "                                                                                                  \n",
            " dense_1 (Dense)             (None, 30)                   930       ['dense[0][0]']               \n",
            "                                                                                                  \n",
            " concatenate (Concatenate)   (None, 38)                   0         ['normalization[0][0]',       \n",
            "                                                                     'dense_1[0][0]']             \n",
            "                                                                                                  \n",
            " dense_2 (Dense)             (None, 1)                    39        ['concatenate[0][0]']         \n",
            "                                                                                                  \n",
            "==================================================================================================\n",
            "Total params: 1256 (4.91 KB)\n",
            "Trainable params: 1239 (4.84 KB)\n",
            "Non-trainable params: 17 (72.00 Byte)\n",
            "__________________________________________________________________________________________________\n"
          ]
        }
      ],
      "source": [
        "model.summary()"
      ]
    },
    {
      "cell_type": "code",
      "execution_count": 58,
      "metadata": {
        "id": "KSsrknad9bzV",
        "outputId": "0c81148b-6945-40c2-ea58-cc7337b0e661"
      },
      "outputs": [
        {
          "name": "stdout",
          "output_type": "stream",
          "text": [
            "Epoch 1/20\n",
            "363/363 [==============================] - 1s 1ms/step - loss: 1.6147 - root_mean_squared_error: 1.2707 - val_loss: 1.8239 - val_root_mean_squared_error: 1.3505\n",
            "Epoch 2/20\n",
            "363/363 [==============================] - 0s 950us/step - loss: 0.4790 - root_mean_squared_error: 0.6921 - val_loss: 0.6048 - val_root_mean_squared_error: 0.7777\n",
            "Epoch 3/20\n",
            "363/363 [==============================] - 0s 955us/step - loss: 0.3887 - root_mean_squared_error: 0.6235 - val_loss: 0.4283 - val_root_mean_squared_error: 0.6544\n",
            "Epoch 4/20\n",
            "363/363 [==============================] - 0s 988us/step - loss: 0.3667 - root_mean_squared_error: 0.6055 - val_loss: 0.3476 - val_root_mean_squared_error: 0.5896\n",
            "Epoch 5/20\n",
            "363/363 [==============================] - 0s 958us/step - loss: 0.3518 - root_mean_squared_error: 0.5931 - val_loss: 0.3314 - val_root_mean_squared_error: 0.5757\n",
            "Epoch 6/20\n",
            "363/363 [==============================] - 0s 954us/step - loss: 0.3420 - root_mean_squared_error: 0.5848 - val_loss: 0.4280 - val_root_mean_squared_error: 0.6542\n",
            "Epoch 7/20\n",
            "363/363 [==============================] - 0s 942us/step - loss: 0.3358 - root_mean_squared_error: 0.5795 - val_loss: 0.3591 - val_root_mean_squared_error: 0.5992\n",
            "Epoch 8/20\n",
            "363/363 [==============================] - 0s 966us/step - loss: 0.3288 - root_mean_squared_error: 0.5734 - val_loss: 0.3439 - val_root_mean_squared_error: 0.5864\n",
            "Epoch 9/20\n",
            "363/363 [==============================] - 0s 945us/step - loss: 0.3248 - root_mean_squared_error: 0.5699 - val_loss: 0.3833 - val_root_mean_squared_error: 0.6191\n",
            "Epoch 10/20\n",
            "363/363 [==============================] - 0s 944us/step - loss: 0.3210 - root_mean_squared_error: 0.5666 - val_loss: 0.7348 - val_root_mean_squared_error: 0.8572\n",
            "Epoch 11/20\n",
            "363/363 [==============================] - 0s 955us/step - loss: 0.3182 - root_mean_squared_error: 0.5641 - val_loss: 0.5301 - val_root_mean_squared_error: 0.7281\n",
            "Epoch 12/20\n",
            "363/363 [==============================] - 0s 965us/step - loss: 0.3279 - root_mean_squared_error: 0.5726 - val_loss: 1.3775 - val_root_mean_squared_error: 1.1736\n",
            "Epoch 13/20\n",
            "363/363 [==============================] - 0s 958us/step - loss: 0.3192 - root_mean_squared_error: 0.5650 - val_loss: 0.3895 - val_root_mean_squared_error: 0.6241\n",
            "Epoch 14/20\n",
            "363/363 [==============================] - 0s 941us/step - loss: 0.3075 - root_mean_squared_error: 0.5546 - val_loss: 0.3840 - val_root_mean_squared_error: 0.6196\n",
            "Epoch 15/20\n",
            "363/363 [==============================] - 0s 1ms/step - loss: 0.3079 - root_mean_squared_error: 0.5549 - val_loss: 0.4431 - val_root_mean_squared_error: 0.6657\n",
            "Epoch 16/20\n",
            "363/363 [==============================] - 0s 948us/step - loss: 0.3039 - root_mean_squared_error: 0.5513 - val_loss: 0.4188 - val_root_mean_squared_error: 0.6471\n",
            "Epoch 17/20\n",
            "363/363 [==============================] - 0s 953us/step - loss: 0.3044 - root_mean_squared_error: 0.5517 - val_loss: 0.4317 - val_root_mean_squared_error: 0.6571\n",
            "Epoch 18/20\n",
            "363/363 [==============================] - 0s 955us/step - loss: 0.2993 - root_mean_squared_error: 0.5471 - val_loss: 1.7894 - val_root_mean_squared_error: 1.3377\n",
            "Epoch 19/20\n",
            "363/363 [==============================] - 0s 987us/step - loss: 0.3079 - root_mean_squared_error: 0.5549 - val_loss: 1.0736 - val_root_mean_squared_error: 1.0361\n",
            "Epoch 20/20\n",
            "363/363 [==============================] - 0s 950us/step - loss: 0.3055 - root_mean_squared_error: 0.5527 - val_loss: 0.6012 - val_root_mean_squared_error: 0.7754\n",
            "162/162 [==============================] - 0s 761us/step - loss: 0.3009 - root_mean_squared_error: 0.5485\n",
            "1/1 [==============================] - 0s 37ms/step\n"
          ]
        }
      ],
      "source": [
        "optimizer = tf.keras.optimizers.Adam(learning_rate=1e-3)\n",
        "model.compile(loss=\"mse\", optimizer=optimizer, metrics=[\"RootMeanSquaredError\"])\n",
        "normalization_layer.adapt(X_train)\n",
        "history = model.fit(X_train, y_train, epochs=20,\n",
        "                    validation_data=(X_valid, y_valid))\n",
        "mse_test = model.evaluate(X_test, y_test)\n",
        "y_pred = model.predict(X_new)"
      ]
    },
    {
      "cell_type": "markdown",
      "metadata": {
        "id": "puZ1Ek7G9bzW"
      },
      "source": [
        "What if you want to send different subsets of input features through the wide or deep paths? We will send 5 features (features 0 to 4), and 6 through the deep path (features 2 to 7). Note that 3 features will go through both (features 2, 3 and 4)."
      ]
    },
    {
      "cell_type": "code",
      "execution_count": 59,
      "metadata": {
        "id": "5N69DZkk9bzW"
      },
      "outputs": [],
      "source": [
        "tf.random.set_seed(42)  # extra code"
      ]
    },
    {
      "cell_type": "code",
      "execution_count": 60,
      "metadata": {
        "id": "WB7xH0jy9bzW"
      },
      "outputs": [],
      "source": [
        "input_wide = tf.keras.layers.Input(shape=[5])  # features 0 to 4\n",
        "input_deep = tf.keras.layers.Input(shape=[6])  # features 2 to 7\n",
        "norm_layer_wide = tf.keras.layers.Normalization()\n",
        "norm_layer_deep = tf.keras.layers.Normalization()\n",
        "norm_wide = norm_layer_wide(input_wide)\n",
        "norm_deep = norm_layer_deep(input_deep)\n",
        "hidden1 = tf.keras.layers.Dense(30, activation=\"relu\")(norm_deep)\n",
        "hidden2 = tf.keras.layers.Dense(30, activation=\"relu\")(hidden1)\n",
        "concat = tf.keras.layers.concatenate([norm_wide, hidden2])\n",
        "output = tf.keras.layers.Dense(1)(concat)\n",
        "model = tf.keras.Model(inputs=[input_wide, input_deep], outputs=[output])"
      ]
    },
    {
      "cell_type": "code",
      "execution_count": 61,
      "metadata": {
        "id": "jHSn1nVK9bzW",
        "outputId": "e0dcf423-79af-4bc7-b9a0-d8e9f615d9cd"
      },
      "outputs": [
        {
          "name": "stdout",
          "output_type": "stream",
          "text": [
            "Epoch 1/20\n",
            "363/363 [==============================] - 1s 1ms/step - loss: 1.1991 - root_mean_squared_error: 1.0950 - val_loss: 0.6847 - val_root_mean_squared_error: 0.8275\n",
            "Epoch 2/20\n",
            "363/363 [==============================] - 0s 1ms/step - loss: 0.4811 - root_mean_squared_error: 0.6936 - val_loss: 0.6327 - val_root_mean_squared_error: 0.7954\n",
            "Epoch 3/20\n",
            "363/363 [==============================] - 0s 1ms/step - loss: 0.4247 - root_mean_squared_error: 0.6517 - val_loss: 0.4143 - val_root_mean_squared_error: 0.6437\n",
            "Epoch 4/20\n",
            "363/363 [==============================] - 0s 1ms/step - loss: 0.3991 - root_mean_squared_error: 0.6317 - val_loss: 0.4130 - val_root_mean_squared_error: 0.6427\n",
            "Epoch 5/20\n",
            "363/363 [==============================] - 0s 984us/step - loss: 0.3882 - root_mean_squared_error: 0.6231 - val_loss: 0.3819 - val_root_mean_squared_error: 0.6180\n",
            "Epoch 6/20\n",
            "363/363 [==============================] - 0s 1ms/step - loss: 0.3805 - root_mean_squared_error: 0.6168 - val_loss: 0.3531 - val_root_mean_squared_error: 0.5942\n",
            "Epoch 7/20\n",
            "363/363 [==============================] - 0s 990us/step - loss: 0.3766 - root_mean_squared_error: 0.6137 - val_loss: 0.5165 - val_root_mean_squared_error: 0.7187\n",
            "Epoch 8/20\n",
            "363/363 [==============================] - 0s 981us/step - loss: 0.3690 - root_mean_squared_error: 0.6074 - val_loss: 0.8292 - val_root_mean_squared_error: 0.9106\n",
            "Epoch 9/20\n",
            "363/363 [==============================] - 0s 1ms/step - loss: 0.3656 - root_mean_squared_error: 0.6047 - val_loss: 1.6116 - val_root_mean_squared_error: 1.2695\n",
            "Epoch 10/20\n",
            "363/363 [==============================] - 0s 1ms/step - loss: 0.3734 - root_mean_squared_error: 0.6111 - val_loss: 2.8305 - val_root_mean_squared_error: 1.6824\n",
            "Epoch 11/20\n",
            "363/363 [==============================] - 0s 979us/step - loss: 0.3654 - root_mean_squared_error: 0.6045 - val_loss: 0.4303 - val_root_mean_squared_error: 0.6560\n",
            "Epoch 12/20\n",
            "363/363 [==============================] - 0s 996us/step - loss: 0.3642 - root_mean_squared_error: 0.6035 - val_loss: 1.2049 - val_root_mean_squared_error: 1.0977\n",
            "Epoch 13/20\n",
            "363/363 [==============================] - 0s 1ms/step - loss: 0.3529 - root_mean_squared_error: 0.5940 - val_loss: 0.4941 - val_root_mean_squared_error: 0.7029\n",
            "Epoch 14/20\n",
            "363/363 [==============================] - 0s 1ms/step - loss: 0.3444 - root_mean_squared_error: 0.5868 - val_loss: 0.5936 - val_root_mean_squared_error: 0.7704\n",
            "Epoch 15/20\n",
            "363/363 [==============================] - 0s 993us/step - loss: 0.3430 - root_mean_squared_error: 0.5857 - val_loss: 0.6609 - val_root_mean_squared_error: 0.8129\n",
            "Epoch 16/20\n",
            "363/363 [==============================] - 0s 1ms/step - loss: 0.3395 - root_mean_squared_error: 0.5827 - val_loss: 0.9048 - val_root_mean_squared_error: 0.9512\n",
            "Epoch 17/20\n",
            "363/363 [==============================] - 0s 993us/step - loss: 0.3426 - root_mean_squared_error: 0.5853 - val_loss: 1.3180 - val_root_mean_squared_error: 1.1480\n",
            "Epoch 18/20\n",
            "363/363 [==============================] - 0s 975us/step - loss: 0.3390 - root_mean_squared_error: 0.5823 - val_loss: 3.3420 - val_root_mean_squared_error: 1.8281\n",
            "Epoch 19/20\n",
            "363/363 [==============================] - 0s 980us/step - loss: 0.3478 - root_mean_squared_error: 0.5898 - val_loss: 1.5269 - val_root_mean_squared_error: 1.2357\n",
            "Epoch 20/20\n",
            "363/363 [==============================] - 0s 1ms/step - loss: 0.3437 - root_mean_squared_error: 0.5862 - val_loss: 1.1551 - val_root_mean_squared_error: 1.0748\n",
            "162/162 [==============================] - 0s 655us/step - loss: 0.3304 - root_mean_squared_error: 0.5748\n",
            "1/1 [==============================] - 0s 40ms/step\n"
          ]
        }
      ],
      "source": [
        "optimizer = tf.keras.optimizers.Adam(learning_rate=1e-3)\n",
        "model.compile(loss=\"mse\", optimizer=optimizer, metrics=[\"RootMeanSquaredError\"])\n",
        "\n",
        "X_train_wide, X_train_deep = X_train[:, :5], X_train[:, 2:]\n",
        "X_valid_wide, X_valid_deep = X_valid[:, :5], X_valid[:, 2:]\n",
        "X_test_wide, X_test_deep = X_test[:, :5], X_test[:, 2:]\n",
        "X_new_wide, X_new_deep = X_test_wide[:3], X_test_deep[:3]\n",
        "\n",
        "norm_layer_wide.adapt(X_train_wide)\n",
        "norm_layer_deep.adapt(X_train_deep)\n",
        "history = model.fit((X_train_wide, X_train_deep), y_train, epochs=20,\n",
        "                    validation_data=((X_valid_wide, X_valid_deep), y_valid))\n",
        "mse_test = model.evaluate((X_test_wide, X_test_deep), y_test)\n",
        "y_pred = model.predict((X_new_wide, X_new_deep))"
      ]
    },
    {
      "cell_type": "code",
      "execution_count": 62,
      "metadata": {},
      "outputs": [
        {
          "name": "stdout",
          "output_type": "stream",
          "text": [
            "Model: \"model_1\"\n",
            "__________________________________________________________________________________________________\n",
            " Layer (type)                Output Shape                 Param #   Connected to                  \n",
            "==================================================================================================\n",
            " input_3 (InputLayer)        [(None, 6)]                  0         []                            \n",
            "                                                                                                  \n",
            " normalization_2 (Normaliza  (None, 6)                    13        ['input_3[0][0]']             \n",
            " tion)                                                                                            \n",
            "                                                                                                  \n",
            " input_2 (InputLayer)        [(None, 5)]                  0         []                            \n",
            "                                                                                                  \n",
            " dense_3 (Dense)             (None, 30)                   210       ['normalization_2[0][0]']     \n",
            "                                                                                                  \n",
            " normalization_1 (Normaliza  (None, 5)                    11        ['input_2[0][0]']             \n",
            " tion)                                                                                            \n",
            "                                                                                                  \n",
            " dense_4 (Dense)             (None, 30)                   930       ['dense_3[0][0]']             \n",
            "                                                                                                  \n",
            " concatenate_1 (Concatenate  (None, 35)                   0         ['normalization_1[0][0]',     \n",
            " )                                                                   'dense_4[0][0]']             \n",
            "                                                                                                  \n",
            " dense_5 (Dense)             (None, 1)                    36        ['concatenate_1[0][0]']       \n",
            "                                                                                                  \n",
            "==================================================================================================\n",
            "Total params: 1200 (4.70 KB)\n",
            "Trainable params: 1176 (4.59 KB)\n",
            "Non-trainable params: 24 (104.00 Byte)\n",
            "__________________________________________________________________________________________________\n"
          ]
        }
      ],
      "source": [
        "model.summary()"
      ]
    },
    {
      "cell_type": "markdown",
      "metadata": {
        "id": "8hT2r9R-9bzW"
      },
      "source": [
        "Adding an auxiliary output for regularization:"
      ]
    },
    {
      "cell_type": "code",
      "execution_count": 63,
      "metadata": {
        "id": "vDNX36dW9bzW"
      },
      "outputs": [],
      "source": [
        "tf.keras.backend.clear_session()\n",
        "tf.random.set_seed(42)"
      ]
    },
    {
      "cell_type": "code",
      "execution_count": 64,
      "metadata": {
        "id": "y5NW7wqz9bzW"
      },
      "outputs": [],
      "source": [
        "input_wide = tf.keras.layers.Input(shape=[5])  # features 0 to 4\n",
        "input_deep = tf.keras.layers.Input(shape=[6])  # features 2 to 7\n",
        "norm_layer_wide = tf.keras.layers.Normalization()\n",
        "norm_layer_deep = tf.keras.layers.Normalization()\n",
        "norm_wide = norm_layer_wide(input_wide)\n",
        "norm_deep = norm_layer_deep(input_deep)\n",
        "hidden1 = tf.keras.layers.Dense(30, activation=\"relu\")(norm_deep)\n",
        "hidden2 = tf.keras.layers.Dense(30, activation=\"relu\")(hidden1)\n",
        "concat = tf.keras.layers.concatenate([norm_wide, hidden2])\n",
        "output = tf.keras.layers.Dense(1)(concat)\n",
        "aux_output = tf.keras.layers.Dense(1)(hidden2)\n",
        "model = tf.keras.Model(inputs=[input_wide, input_deep],\n",
        "                       outputs=[output, aux_output])"
      ]
    },
    {
      "cell_type": "code",
      "execution_count": 65,
      "metadata": {
        "id": "wz-waa5n9bzW"
      },
      "outputs": [],
      "source": [
        "optimizer = tf.keras.optimizers.Adam(learning_rate=1e-3)\n",
        "model.compile(loss=(\"mse\", \"mse\"), loss_weights=(0.9, 0.1), optimizer=optimizer,\n",
        "              metrics=[\"RootMeanSquaredError\"])"
      ]
    },
    {
      "cell_type": "code",
      "execution_count": 66,
      "metadata": {
        "id": "J5-MkuwU9bzW",
        "outputId": "db5c3665-15c2-49de-ca86-4339d5d7039a"
      },
      "outputs": [
        {
          "name": "stdout",
          "output_type": "stream",
          "text": [
            "Epoch 1/20\n",
            "363/363 [==============================] - 1s 1ms/step - loss: 1.5485 - dense_2_loss: 1.4958 - dense_3_loss: 2.0220 - dense_2_root_mean_squared_error: 1.2230 - dense_3_root_mean_squared_error: 1.4220 - val_loss: 0.8522 - val_dense_2_loss: 0.7257 - val_dense_3_loss: 1.9908 - val_dense_2_root_mean_squared_error: 0.8519 - val_dense_3_root_mean_squared_error: 1.4109\n",
            "Epoch 2/20\n",
            "363/363 [==============================] - 0s 1ms/step - loss: 0.5629 - dense_2_loss: 0.5483 - dense_3_loss: 0.6946 - dense_2_root_mean_squared_error: 0.7405 - dense_3_root_mean_squared_error: 0.8334 - val_loss: 0.8150 - val_dense_2_loss: 0.7871 - val_dense_3_loss: 1.0664 - val_dense_2_root_mean_squared_error: 0.8872 - val_dense_3_root_mean_squared_error: 1.0327\n",
            "Epoch 3/20\n",
            "363/363 [==============================] - 0s 1ms/step - loss: 0.4844 - dense_2_loss: 0.4727 - dense_3_loss: 0.5896 - dense_2_root_mean_squared_error: 0.6875 - dense_3_root_mean_squared_error: 0.7678 - val_loss: 0.6121 - val_dense_2_loss: 0.5916 - val_dense_3_loss: 0.7964 - val_dense_2_root_mean_squared_error: 0.7692 - val_dense_3_root_mean_squared_error: 0.8924\n",
            "Epoch 4/20\n",
            "363/363 [==============================] - 0s 1ms/step - loss: 0.4384 - dense_2_loss: 0.4251 - dense_3_loss: 0.5582 - dense_2_root_mean_squared_error: 0.6520 - dense_3_root_mean_squared_error: 0.7472 - val_loss: 0.4271 - val_dense_2_loss: 0.4112 - val_dense_3_loss: 0.5705 - val_dense_2_root_mean_squared_error: 0.6412 - val_dense_3_root_mean_squared_error: 0.7553\n",
            "Epoch 5/20\n",
            "363/363 [==============================] - 0s 1ms/step - loss: 0.4064 - dense_2_loss: 0.3934 - dense_3_loss: 0.5232 - dense_2_root_mean_squared_error: 0.6272 - dense_3_root_mean_squared_error: 0.7233 - val_loss: 0.4950 - val_dense_2_loss: 0.4844 - val_dense_3_loss: 0.5906 - val_dense_2_root_mean_squared_error: 0.6960 - val_dense_3_root_mean_squared_error: 0.7685\n",
            "Epoch 6/20\n",
            "363/363 [==============================] - 0s 1ms/step - loss: 0.3848 - dense_2_loss: 0.3729 - dense_3_loss: 0.4917 - dense_2_root_mean_squared_error: 0.6107 - dense_3_root_mean_squared_error: 0.7012 - val_loss: 0.6640 - val_dense_2_loss: 0.6501 - val_dense_3_loss: 0.7893 - val_dense_2_root_mean_squared_error: 0.8063 - val_dense_3_root_mean_squared_error: 0.8884\n",
            "Epoch 7/20\n",
            "363/363 [==============================] - 0s 1ms/step - loss: 0.3768 - dense_2_loss: 0.3667 - dense_3_loss: 0.4681 - dense_2_root_mean_squared_error: 0.6056 - dense_3_root_mean_squared_error: 0.6842 - val_loss: 0.3816 - val_dense_2_loss: 0.3730 - val_dense_3_loss: 0.4589 - val_dense_2_root_mean_squared_error: 0.6107 - val_dense_3_root_mean_squared_error: 0.6774\n",
            "Epoch 8/20\n",
            "363/363 [==============================] - 0s 1ms/step - loss: 0.3667 - dense_2_loss: 0.3578 - dense_3_loss: 0.4467 - dense_2_root_mean_squared_error: 0.5982 - dense_3_root_mean_squared_error: 0.6683 - val_loss: 0.4047 - val_dense_2_loss: 0.3891 - val_dense_3_loss: 0.5451 - val_dense_2_root_mean_squared_error: 0.6238 - val_dense_3_root_mean_squared_error: 0.7383\n",
            "Epoch 9/20\n",
            "363/363 [==============================] - 0s 1ms/step - loss: 0.3588 - dense_2_loss: 0.3504 - dense_3_loss: 0.4343 - dense_2_root_mean_squared_error: 0.5920 - dense_3_root_mean_squared_error: 0.6590 - val_loss: 0.4032 - val_dense_2_loss: 0.3984 - val_dense_3_loss: 0.4464 - val_dense_2_root_mean_squared_error: 0.6312 - val_dense_3_root_mean_squared_error: 0.6681\n",
            "Epoch 10/20\n",
            "363/363 [==============================] - 0s 1ms/step - loss: 0.3610 - dense_2_loss: 0.3541 - dense_3_loss: 0.4232 - dense_2_root_mean_squared_error: 0.5950 - dense_3_root_mean_squared_error: 0.6505 - val_loss: 1.4219 - val_dense_2_loss: 1.3935 - val_dense_3_loss: 1.6777 - val_dense_2_root_mean_squared_error: 1.1805 - val_dense_3_root_mean_squared_error: 1.2953\n",
            "Epoch 11/20\n",
            "363/363 [==============================] - 0s 1ms/step - loss: 0.3567 - dense_2_loss: 0.3498 - dense_3_loss: 0.4194 - dense_2_root_mean_squared_error: 0.5914 - dense_3_root_mean_squared_error: 0.6476 - val_loss: 0.3654 - val_dense_2_loss: 0.3621 - val_dense_3_loss: 0.3949 - val_dense_2_root_mean_squared_error: 0.6017 - val_dense_3_root_mean_squared_error: 0.6284\n",
            "Epoch 12/20\n",
            "363/363 [==============================] - 0s 1ms/step - loss: 0.3550 - dense_2_loss: 0.3485 - dense_3_loss: 0.4127 - dense_2_root_mean_squared_error: 0.5904 - dense_3_root_mean_squared_error: 0.6424 - val_loss: 0.4862 - val_dense_2_loss: 0.4837 - val_dense_3_loss: 0.5087 - val_dense_2_root_mean_squared_error: 0.6955 - val_dense_3_root_mean_squared_error: 0.7132\n",
            "Epoch 13/20\n",
            "363/363 [==============================] - 0s 1ms/step - loss: 0.3455 - dense_2_loss: 0.3390 - dense_3_loss: 0.4044 - dense_2_root_mean_squared_error: 0.5822 - dense_3_root_mean_squared_error: 0.6359 - val_loss: 0.3259 - val_dense_2_loss: 0.3154 - val_dense_3_loss: 0.4208 - val_dense_2_root_mean_squared_error: 0.5616 - val_dense_3_root_mean_squared_error: 0.6487\n",
            "Epoch 14/20\n",
            "363/363 [==============================] - 0s 1ms/step - loss: 0.3438 - dense_2_loss: 0.3375 - dense_3_loss: 0.4010 - dense_2_root_mean_squared_error: 0.5809 - dense_3_root_mean_squared_error: 0.6332 - val_loss: 0.3841 - val_dense_2_loss: 0.3713 - val_dense_3_loss: 0.4992 - val_dense_2_root_mean_squared_error: 0.6094 - val_dense_3_root_mean_squared_error: 0.7066\n",
            "Epoch 15/20\n",
            "363/363 [==============================] - 0s 1ms/step - loss: 0.3433 - dense_2_loss: 0.3373 - dense_3_loss: 0.3964 - dense_2_root_mean_squared_error: 0.5808 - dense_3_root_mean_squared_error: 0.6296 - val_loss: 0.3308 - val_dense_2_loss: 0.3188 - val_dense_3_loss: 0.4386 - val_dense_2_root_mean_squared_error: 0.5647 - val_dense_3_root_mean_squared_error: 0.6623\n",
            "Epoch 16/20\n",
            "363/363 [==============================] - 0s 1ms/step - loss: 0.3387 - dense_2_loss: 0.3325 - dense_3_loss: 0.3947 - dense_2_root_mean_squared_error: 0.5766 - dense_3_root_mean_squared_error: 0.6282 - val_loss: 0.3437 - val_dense_2_loss: 0.3337 - val_dense_3_loss: 0.4341 - val_dense_2_root_mean_squared_error: 0.5776 - val_dense_3_root_mean_squared_error: 0.6589\n",
            "Epoch 17/20\n",
            "363/363 [==============================] - 0s 1ms/step - loss: 0.3378 - dense_2_loss: 0.3318 - dense_3_loss: 0.3917 - dense_2_root_mean_squared_error: 0.5761 - dense_3_root_mean_squared_error: 0.6259 - val_loss: 0.4006 - val_dense_2_loss: 0.3953 - val_dense_3_loss: 0.4487 - val_dense_2_root_mean_squared_error: 0.6287 - val_dense_3_root_mean_squared_error: 0.6698\n",
            "Epoch 18/20\n",
            "363/363 [==============================] - 0s 1ms/step - loss: 0.3360 - dense_2_loss: 0.3300 - dense_3_loss: 0.3893 - dense_2_root_mean_squared_error: 0.5745 - dense_3_root_mean_squared_error: 0.6239 - val_loss: 0.5443 - val_dense_2_loss: 0.5196 - val_dense_3_loss: 0.7662 - val_dense_2_root_mean_squared_error: 0.7209 - val_dense_3_root_mean_squared_error: 0.8753\n",
            "Epoch 19/20\n",
            "363/363 [==============================] - 0s 1ms/step - loss: 0.3367 - dense_2_loss: 0.3310 - dense_3_loss: 0.3888 - dense_2_root_mean_squared_error: 0.5753 - dense_3_root_mean_squared_error: 0.6235 - val_loss: 0.3856 - val_dense_2_loss: 0.3831 - val_dense_3_loss: 0.4076 - val_dense_2_root_mean_squared_error: 0.6190 - val_dense_3_root_mean_squared_error: 0.6384\n",
            "Epoch 20/20\n",
            "363/363 [==============================] - 0s 1ms/step - loss: 0.3432 - dense_2_loss: 0.3378 - dense_3_loss: 0.3919 - dense_2_root_mean_squared_error: 0.5812 - dense_3_root_mean_squared_error: 0.6260 - val_loss: 0.7370 - val_dense_2_loss: 0.7276 - val_dense_3_loss: 0.8212 - val_dense_2_root_mean_squared_error: 0.8530 - val_dense_3_root_mean_squared_error: 0.9062\n"
          ]
        }
      ],
      "source": [
        "norm_layer_wide.adapt(X_train_wide)\n",
        "norm_layer_deep.adapt(X_train_deep)\n",
        "history = model.fit(\n",
        "    (X_train_wide, X_train_deep), (y_train, y_train), epochs=20,\n",
        "    validation_data=((X_valid_wide, X_valid_deep), (y_valid, y_valid))\n",
        ")"
      ]
    },
    {
      "cell_type": "code",
      "execution_count": 67,
      "metadata": {
        "id": "7UqSR53z9bzW",
        "outputId": "51668ab7-6575-47e2-d1ea-16728451fd94"
      },
      "outputs": [
        {
          "name": "stdout",
          "output_type": "stream",
          "text": [
            "  1/162 [..............................] - ETA: 2s - loss: 0.3119 - dense_2_loss: 0.3007 - dense_3_loss: 0.4125 - dense_2_root_mean_squared_error: 0.5484 - dense_3_root_mean_squared_error: 0.6423"
          ]
        },
        {
          "name": "stdout",
          "output_type": "stream",
          "text": [
            "162/162 [==============================] - 0s 939us/step - loss: 0.3385 - dense_2_loss: 0.3327 - dense_3_loss: 0.3907 - dense_2_root_mean_squared_error: 0.5768 - dense_3_root_mean_squared_error: 0.6251\n"
          ]
        }
      ],
      "source": [
        "eval_results = model.evaluate((X_test_wide, X_test_deep), (y_test, y_test))\n",
        "weighted_sum_of_losses, main_loss, aux_loss, main_rmse, aux_rmse = eval_results"
      ]
    },
    {
      "cell_type": "code",
      "execution_count": 68,
      "metadata": {
        "id": "TSJUyJJQ9bzW",
        "outputId": "2fe5e189-3996-460f-ef27-dc90e9af955f"
      },
      "outputs": [
        {
          "name": "stdout",
          "output_type": "stream",
          "text": [
            "WARNING:tensorflow:5 out of the last 5 calls to <function Model.make_predict_function.<locals>.predict_function at 0x00000207AAABD440> triggered tf.function retracing. Tracing is expensive and the excessive number of tracings could be due to (1) creating @tf.function repeatedly in a loop, (2) passing tensors with different shapes, (3) passing Python objects instead of tensors. For (1), please define your @tf.function outside of the loop. For (2), @tf.function has reduce_retracing=True option that can avoid unnecessary retracing. For (3), please refer to https://www.tensorflow.org/guide/function#controlling_retracing and https://www.tensorflow.org/api_docs/python/tf/function for  more details.\n",
            "1/1 [==============================] - 0s 50ms/step\n"
          ]
        }
      ],
      "source": [
        "y_pred_main, y_pred_aux = model.predict((X_new_wide, X_new_deep))"
      ]
    },
    {
      "cell_type": "code",
      "execution_count": 69,
      "metadata": {
        "id": "ym2JFYo_9bzW"
      },
      "outputs": [
        {
          "name": "stdout",
          "output_type": "stream",
          "text": [
            "1/1 [==============================] - 0s 14ms/step\n"
          ]
        }
      ],
      "source": [
        "y_pred_tuple = model.predict((X_new_wide, X_new_deep))\n",
        "y_pred = dict(zip(model.output_names, y_pred_tuple))"
      ]
    },
    {
      "cell_type": "markdown",
      "metadata": {
        "id": "yCeAE2Oe9bzW"
      },
      "source": [
        "## Using the Subclassing API to Build Dynamic Models"
      ]
    },
    {
      "cell_type": "code",
      "execution_count": 70,
      "metadata": {
        "id": "MEoDfd6F9bzW"
      },
      "outputs": [],
      "source": [
        "class WideAndDeepModel(tf.keras.Model):\n",
        "    def __init__(self, units=30, activation=\"relu\", **kwargs):\n",
        "        super().__init__(**kwargs)  # needed to support naming the model\n",
        "        self.norm_layer_wide = tf.keras.layers.Normalization()\n",
        "        self.norm_layer_deep = tf.keras.layers.Normalization()\n",
        "        self.hidden1 = tf.keras.layers.Dense(units, activation=activation)\n",
        "        self.hidden2 = tf.keras.layers.Dense(units, activation=activation)\n",
        "        self.main_output = tf.keras.layers.Dense(1)\n",
        "        self.aux_output = tf.keras.layers.Dense(1)\n",
        "\n",
        "    def call(self, inputs):\n",
        "        input_wide, input_deep = inputs\n",
        "        norm_wide = self.norm_layer_wide(input_wide)\n",
        "        norm_deep = self.norm_layer_deep(input_deep)\n",
        "        hidden1 = self.hidden1(norm_deep)\n",
        "        hidden2 = self.hidden2(hidden1)\n",
        "        concat = tf.keras.layers.concatenate([norm_wide, hidden2])\n",
        "        output = self.main_output(concat)\n",
        "        aux_output = self.aux_output(hidden2)\n",
        "        return output, aux_output\n",
        "\n",
        "tf.random.set_seed(42)  # extra code – just for reproducibility\n",
        "model = WideAndDeepModel(30, activation=\"relu\", name=\"my_cool_model\")"
      ]
    },
    {
      "cell_type": "code",
      "execution_count": 71,
      "metadata": {
        "id": "dVbRS4uR9bzW",
        "outputId": "d2a3de15-5c56-4824-de6a-95171babcfd7"
      },
      "outputs": [
        {
          "name": "stdout",
          "output_type": "stream",
          "text": [
            "Epoch 1/10\n",
            "363/363 [==============================] - 1s 1ms/step - loss: 1.3735 - output_1_loss: 1.2802 - output_2_loss: 2.2127 - output_1_root_mean_squared_error: 1.1315 - output_2_root_mean_squared_error: 1.4875 - val_loss: 4.5728 - val_output_1_loss: 3.7174 - val_output_2_loss: 12.2715 - val_output_1_root_mean_squared_error: 1.9281 - val_output_2_root_mean_squared_error: 3.5031\n",
            "Epoch 2/10\n",
            "363/363 [==============================] - 0s 1ms/step - loss: 0.5429 - output_1_loss: 0.4934 - output_2_loss: 0.9882 - output_1_root_mean_squared_error: 0.7024 - output_2_root_mean_squared_error: 0.9941 - val_loss: 1.8251 - val_output_1_loss: 1.4947 - val_output_2_loss: 4.7983 - val_output_1_root_mean_squared_error: 1.2226 - val_output_2_root_mean_squared_error: 2.1905\n",
            "Epoch 3/10\n",
            "363/363 [==============================] - 0s 1ms/step - loss: 0.4420 - output_1_loss: 0.4188 - output_2_loss: 0.6510 - output_1_root_mean_squared_error: 0.6471 - output_2_root_mean_squared_error: 0.8068 - val_loss: 0.7573 - val_output_1_loss: 0.7137 - val_output_2_loss: 1.1492 - val_output_1_root_mean_squared_error: 0.8448 - val_output_2_root_mean_squared_error: 1.0720\n",
            "Epoch 4/10\n",
            "363/363 [==============================] - 0s 1ms/step - loss: 0.4116 - output_1_loss: 0.3949 - output_2_loss: 0.5619 - output_1_root_mean_squared_error: 0.6284 - output_2_root_mean_squared_error: 0.7496 - val_loss: 0.4002 - val_output_1_loss: 0.3748 - val_output_2_loss: 0.6289 - val_output_1_root_mean_squared_error: 0.6122 - val_output_2_root_mean_squared_error: 0.7931\n",
            "Epoch 5/10\n",
            "363/363 [==============================] - 0s 1ms/step - loss: 0.3922 - output_1_loss: 0.3779 - output_2_loss: 0.5208 - output_1_root_mean_squared_error: 0.6148 - output_2_root_mean_squared_error: 0.7217 - val_loss: 0.4501 - val_output_1_loss: 0.4311 - val_output_2_loss: 0.6209 - val_output_1_root_mean_squared_error: 0.6566 - val_output_2_root_mean_squared_error: 0.7880\n",
            "Epoch 6/10\n",
            "363/363 [==============================] - 0s 1ms/step - loss: 0.3794 - output_1_loss: 0.3666 - output_2_loss: 0.4947 - output_1_root_mean_squared_error: 0.6055 - output_2_root_mean_squared_error: 0.7034 - val_loss: 0.4531 - val_output_1_loss: 0.4397 - val_output_2_loss: 0.5736 - val_output_1_root_mean_squared_error: 0.6631 - val_output_2_root_mean_squared_error: 0.7573\n",
            "Epoch 7/10\n",
            "363/363 [==============================] - 0s 1ms/step - loss: 0.3703 - output_1_loss: 0.3592 - output_2_loss: 0.4706 - output_1_root_mean_squared_error: 0.5993 - output_2_root_mean_squared_error: 0.6860 - val_loss: 0.3707 - val_output_1_loss: 0.3551 - val_output_2_loss: 0.5109 - val_output_1_root_mean_squared_error: 0.5959 - val_output_2_root_mean_squared_error: 0.7148\n",
            "Epoch 8/10\n",
            "363/363 [==============================] - 0s 1ms/step - loss: 0.3626 - output_1_loss: 0.3523 - output_2_loss: 0.4552 - output_1_root_mean_squared_error: 0.5935 - output_2_root_mean_squared_error: 0.6747 - val_loss: 0.3384 - val_output_1_loss: 0.3265 - val_output_2_loss: 0.4455 - val_output_1_root_mean_squared_error: 0.5714 - val_output_2_root_mean_squared_error: 0.6674\n",
            "Epoch 9/10\n",
            "363/363 [==============================] - 0s 1ms/step - loss: 0.3555 - output_1_loss: 0.3461 - output_2_loss: 0.4399 - output_1_root_mean_squared_error: 0.5883 - output_2_root_mean_squared_error: 0.6632 - val_loss: 0.5123 - val_output_1_loss: 0.5033 - val_output_2_loss: 0.5931 - val_output_1_root_mean_squared_error: 0.7094 - val_output_2_root_mean_squared_error: 0.7702\n",
            "Epoch 10/10\n",
            "363/363 [==============================] - 0s 1ms/step - loss: 0.3552 - output_1_loss: 0.3466 - output_2_loss: 0.4324 - output_1_root_mean_squared_error: 0.5887 - output_2_root_mean_squared_error: 0.6575 - val_loss: 0.3401 - val_output_1_loss: 0.3301 - val_output_2_loss: 0.4298 - val_output_1_root_mean_squared_error: 0.5746 - val_output_2_root_mean_squared_error: 0.6556\n",
            "162/162 [==============================] - 0s 761us/step - loss: 0.3515 - output_1_loss: 0.3431 - output_2_loss: 0.4270 - output_1_root_mean_squared_error: 0.5857 - output_2_root_mean_squared_error: 0.6534\n",
            "WARNING:tensorflow:6 out of the last 7 calls to <function Model.make_predict_function.<locals>.predict_function at 0x00000207AA959440> triggered tf.function retracing. Tracing is expensive and the excessive number of tracings could be due to (1) creating @tf.function repeatedly in a loop, (2) passing tensors with different shapes, (3) passing Python objects instead of tensors. For (1), please define your @tf.function outside of the loop. For (2), @tf.function has reduce_retracing=True option that can avoid unnecessary retracing. For (3), please refer to https://www.tensorflow.org/guide/function#controlling_retracing and https://www.tensorflow.org/api_docs/python/tf/function for  more details.\n",
            "1/1 [==============================] - 0s 45ms/step\n"
          ]
        }
      ],
      "source": [
        "optimizer = tf.keras.optimizers.Adam(learning_rate=1e-3)\n",
        "model.compile(loss=\"mse\", loss_weights=[0.9, 0.1], optimizer=optimizer,\n",
        "              metrics=[\"RootMeanSquaredError\"])\n",
        "model.norm_layer_wide.adapt(X_train_wide)\n",
        "model.norm_layer_deep.adapt(X_train_deep)\n",
        "history = model.fit(\n",
        "    (X_train_wide, X_train_deep), (y_train, y_train), epochs=10,\n",
        "    validation_data=((X_valid_wide, X_valid_deep), (y_valid, y_valid)))\n",
        "eval_results = model.evaluate((X_test_wide, X_test_deep), (y_test, y_test))\n",
        "weighted_sum_of_losses, main_loss, aux_loss, main_rmse, aux_rmse = eval_results\n",
        "y_pred_main, y_pred_aux = model.predict((X_new_wide, X_new_deep))"
      ]
    },
    {
      "cell_type": "markdown",
      "metadata": {
        "id": "co9r-pW69bzX"
      },
      "source": [
        "## Saving and Restoring a Model"
      ]
    },
    {
      "cell_type": "code",
      "execution_count": 72,
      "metadata": {
        "id": "yVY6n4iW9bzX"
      },
      "outputs": [],
      "source": [
        "# extra code – delete the directory, in case it already exists\n",
        "\n",
        "import shutil\n",
        "\n",
        "shutil.rmtree(\"my_keras_model\", ignore_errors=True)"
      ]
    },
    {
      "cell_type": "code",
      "execution_count": 73,
      "metadata": {
        "id": "1KMv-FFQ9bzX",
        "outputId": "bdd7d182-f1fc-4abf-baca-a43485660bb2"
      },
      "outputs": [
        {
          "name": "stdout",
          "output_type": "stream",
          "text": [
            "INFO:tensorflow:Assets written to: my_keras_model\\assets\n"
          ]
        },
        {
          "name": "stderr",
          "output_type": "stream",
          "text": [
            "INFO:tensorflow:Assets written to: my_keras_model\\assets\n"
          ]
        }
      ],
      "source": [
        "model.save(\"my_keras_model\", save_format=\"tf\")"
      ]
    },
    {
      "cell_type": "code",
      "execution_count": 74,
      "metadata": {
        "id": "LOiFU_Ra9bzX",
        "outputId": "e86a543d-3eb2-4d96-8da5-0b431d95623d"
      },
      "outputs": [
        {
          "name": "stdout",
          "output_type": "stream",
          "text": [
            "my_keras_model\\assets\n",
            "my_keras_model\\fingerprint.pb\n",
            "my_keras_model\\keras_metadata.pb\n",
            "my_keras_model\\saved_model.pb\n",
            "my_keras_model\\variables\n",
            "my_keras_model\\variables\\variables.data-00000-of-00001\n",
            "my_keras_model\\variables\\variables.index\n"
          ]
        }
      ],
      "source": [
        "# extra code – show the contents of the my_keras_model/ directory\n",
        "for path in sorted(Path(\"my_keras_model\").glob(\"**/*\")):\n",
        "    print(path)"
      ]
    },
    {
      "cell_type": "code",
      "execution_count": 75,
      "metadata": {
        "id": "XLLgCp1r9bzX"
      },
      "outputs": [
        {
          "name": "stdout",
          "output_type": "stream",
          "text": [
            "1/1 [==============================] - 0s 52ms/step\n"
          ]
        }
      ],
      "source": [
        "model = tf.keras.models.load_model(\"my_keras_model\")\n",
        "y_pred_main, y_pred_aux = model.predict((X_new_wide, X_new_deep))"
      ]
    },
    {
      "cell_type": "code",
      "execution_count": 76,
      "metadata": {
        "id": "NpaRNvDt9bzX"
      },
      "outputs": [],
      "source": [
        "model.save_weights(\"my_weights\")"
      ]
    },
    {
      "cell_type": "code",
      "execution_count": 77,
      "metadata": {
        "id": "HjNC955g9bzX",
        "outputId": "78e06c31-ed53-42f4-81bf-880178316d53"
      },
      "outputs": [
        {
          "data": {
            "text/plain": [
              "<tensorflow.python.checkpoint.checkpoint.CheckpointLoadStatus at 0x20794a64590>"
            ]
          },
          "execution_count": 77,
          "metadata": {},
          "output_type": "execute_result"
        }
      ],
      "source": [
        "model.load_weights(\"my_weights\")"
      ]
    },
    {
      "cell_type": "code",
      "execution_count": 78,
      "metadata": {
        "id": "rFePOdc69bzX",
        "outputId": "b2bc5445-5d3a-4474-85c9-9610aa03f9d7"
      },
      "outputs": [
        {
          "name": "stdout",
          "output_type": "stream",
          "text": [
            "my_weights.data-00000-of-00001\n",
            "my_weights.index\n"
          ]
        }
      ],
      "source": [
        "# extra code – show the list of my_weights.* files\n",
        "for path in sorted(Path().glob(\"my_weights.*\")):\n",
        "    print(path)"
      ]
    },
    {
      "cell_type": "markdown",
      "metadata": {
        "id": "vutAQ_Rg9bzX"
      },
      "source": [
        "## Using Callbacks"
      ]
    },
    {
      "cell_type": "code",
      "execution_count": 79,
      "metadata": {
        "id": "4Nf4PDwv9bzX"
      },
      "outputs": [],
      "source": [
        "shutil.rmtree(\"my_checkpoints\", ignore_errors=True)  # extra code"
      ]
    },
    {
      "cell_type": "code",
      "execution_count": 80,
      "metadata": {
        "id": "HSG1vxrE9bzX",
        "outputId": "c1857b6e-c2d0-4e08-b63e-688928aeae02"
      },
      "outputs": [
        {
          "name": "stdout",
          "output_type": "stream",
          "text": [
            "Epoch 1/10\n"
          ]
        },
        {
          "name": "stdout",
          "output_type": "stream",
          "text": [
            "363/363 [==============================] - 1s 2ms/step - loss: 0.3501 - output_1_loss: 0.3419 - output_2_loss: 0.4239 - output_1_root_mean_squared_error: 0.5847 - output_2_root_mean_squared_error: 0.6511 - val_loss: 0.5091 - val_output_1_loss: 0.5070 - val_output_2_loss: 0.5278 - val_output_1_root_mean_squared_error: 0.7121 - val_output_2_root_mean_squared_error: 0.7265\n",
            "Epoch 2/10\n",
            "363/363 [==============================] - 0s 1ms/step - loss: 0.3472 - output_1_loss: 0.3398 - output_2_loss: 0.4139 - output_1_root_mean_squared_error: 0.5829 - output_2_root_mean_squared_error: 0.6433 - val_loss: 0.9827 - val_output_1_loss: 0.9841 - val_output_2_loss: 0.9699 - val_output_1_root_mean_squared_error: 0.9920 - val_output_2_root_mean_squared_error: 0.9848\n",
            "Epoch 3/10\n",
            "363/363 [==============================] - 0s 1ms/step - loss: 0.3442 - output_1_loss: 0.3368 - output_2_loss: 0.4105 - output_1_root_mean_squared_error: 0.5803 - output_2_root_mean_squared_error: 0.6407 - val_loss: 0.3731 - val_output_1_loss: 0.3666 - val_output_2_loss: 0.4319 - val_output_1_root_mean_squared_error: 0.6055 - val_output_2_root_mean_squared_error: 0.6572\n",
            "Epoch 4/10\n",
            "363/363 [==============================] - 0s 1ms/step - loss: 0.3406 - output_1_loss: 0.3335 - output_2_loss: 0.4048 - output_1_root_mean_squared_error: 0.5775 - output_2_root_mean_squared_error: 0.6362 - val_loss: 0.4406 - val_output_1_loss: 0.4384 - val_output_2_loss: 0.4606 - val_output_1_root_mean_squared_error: 0.6621 - val_output_2_root_mean_squared_error: 0.6787\n",
            "Epoch 5/10\n",
            "363/363 [==============================] - 0s 1ms/step - loss: 0.3378 - output_1_loss: 0.3310 - output_2_loss: 0.3984 - output_1_root_mean_squared_error: 0.5753 - output_2_root_mean_squared_error: 0.6312 - val_loss: 0.7697 - val_output_1_loss: 0.7810 - val_output_2_loss: 0.6679 - val_output_1_root_mean_squared_error: 0.8837 - val_output_2_root_mean_squared_error: 0.8173\n",
            "Epoch 6/10\n",
            "363/363 [==============================] - 0s 1ms/step - loss: 0.3416 - output_1_loss: 0.3352 - output_2_loss: 0.3996 - output_1_root_mean_squared_error: 0.5789 - output_2_root_mean_squared_error: 0.6321 - val_loss: 1.3216 - val_output_1_loss: 1.3481 - val_output_2_loss: 1.0832 - val_output_1_root_mean_squared_error: 1.1611 - val_output_2_root_mean_squared_error: 1.0407\n",
            "Epoch 7/10\n",
            "363/363 [==============================] - 0s 1ms/step - loss: 0.3397 - output_1_loss: 0.3333 - output_2_loss: 0.3978 - output_1_root_mean_squared_error: 0.5773 - output_2_root_mean_squared_error: 0.6307 - val_loss: 0.4774 - val_output_1_loss: 0.4727 - val_output_2_loss: 0.5203 - val_output_1_root_mean_squared_error: 0.6875 - val_output_2_root_mean_squared_error: 0.7214\n",
            "Epoch 8/10\n",
            "363/363 [==============================] - 0s 1ms/step - loss: 0.3336 - output_1_loss: 0.3273 - output_2_loss: 0.3906 - output_1_root_mean_squared_error: 0.5721 - output_2_root_mean_squared_error: 0.6250 - val_loss: 0.9379 - val_output_1_loss: 0.9514 - val_output_2_loss: 0.8169 - val_output_1_root_mean_squared_error: 0.9754 - val_output_2_root_mean_squared_error: 0.9038\n",
            "Epoch 9/10\n",
            "363/363 [==============================] - 0s 1ms/step - loss: 0.3315 - output_1_loss: 0.3252 - output_2_loss: 0.3879 - output_1_root_mean_squared_error: 0.5703 - output_2_root_mean_squared_error: 0.6228 - val_loss: 0.3572 - val_output_1_loss: 0.3512 - val_output_2_loss: 0.4113 - val_output_1_root_mean_squared_error: 0.5926 - val_output_2_root_mean_squared_error: 0.6413\n",
            "Epoch 10/10\n",
            "363/363 [==============================] - 0s 1ms/step - loss: 0.3327 - output_1_loss: 0.3267 - output_2_loss: 0.3860 - output_1_root_mean_squared_error: 0.5716 - output_2_root_mean_squared_error: 0.6213 - val_loss: 0.8844 - val_output_1_loss: 0.8940 - val_output_2_loss: 0.7983 - val_output_1_root_mean_squared_error: 0.9455 - val_output_2_root_mean_squared_error: 0.8935\n"
          ]
        }
      ],
      "source": [
        "checkpoint_cb = tf.keras.callbacks.ModelCheckpoint(\"my_checkpoints\",\n",
        "                                                   save_weights_only=True)\n",
        "history = model.fit(\n",
        "    (X_train_wide, X_train_deep), (y_train, y_train), epochs=10,\n",
        "    validation_data=((X_valid_wide, X_valid_deep), (y_valid, y_valid)),\n",
        "    callbacks=[checkpoint_cb])"
      ]
    },
    {
      "cell_type": "code",
      "execution_count": 81,
      "metadata": {
        "id": "GKGckSs19bzX",
        "outputId": "4dda33bb-4502-4e8b-c552-c8fcf106c9cc"
      },
      "outputs": [
        {
          "name": "stdout",
          "output_type": "stream",
          "text": [
            "Epoch 1/100\n",
            "  1/363 [..............................] - ETA: 1s - loss: 0.3993 - output_1_loss: 0.4134 - output_2_loss: 0.2722 - output_1_root_mean_squared_error: 0.6430 - output_2_root_mean_squared_error: 0.5217"
          ]
        },
        {
          "name": "stdout",
          "output_type": "stream",
          "text": [
            "363/363 [==============================] - 0s 1ms/step - loss: 0.3299 - output_1_loss: 0.3239 - output_2_loss: 0.3837 - output_1_root_mean_squared_error: 0.5691 - output_2_root_mean_squared_error: 0.6194 - val_loss: 0.6570 - val_output_1_loss: 0.6491 - val_output_2_loss: 0.7279 - val_output_1_root_mean_squared_error: 0.8057 - val_output_2_root_mean_squared_error: 0.8532\n",
            "Epoch 2/100\n",
            "363/363 [==============================] - 0s 1ms/step - loss: 0.3331 - output_1_loss: 0.3276 - output_2_loss: 0.3831 - output_1_root_mean_squared_error: 0.5723 - output_2_root_mean_squared_error: 0.6190 - val_loss: 1.5150 - val_output_1_loss: 1.5506 - val_output_2_loss: 1.1954 - val_output_1_root_mean_squared_error: 1.2452 - val_output_2_root_mean_squared_error: 1.0933\n",
            "Epoch 3/100\n",
            "363/363 [==============================] - 0s 1ms/step - loss: 0.3344 - output_1_loss: 0.3291 - output_2_loss: 0.3827 - output_1_root_mean_squared_error: 0.5736 - output_2_root_mean_squared_error: 0.6186 - val_loss: 0.5282 - val_output_1_loss: 0.5196 - val_output_2_loss: 0.6055 - val_output_1_root_mean_squared_error: 0.7208 - val_output_2_root_mean_squared_error: 0.7781\n",
            "Epoch 4/100\n",
            "363/363 [==============================] - 0s 1ms/step - loss: 0.3281 - output_1_loss: 0.3225 - output_2_loss: 0.3782 - output_1_root_mean_squared_error: 0.5679 - output_2_root_mean_squared_error: 0.6150 - val_loss: 1.1060 - val_output_1_loss: 1.1288 - val_output_2_loss: 0.9010 - val_output_1_root_mean_squared_error: 1.0625 - val_output_2_root_mean_squared_error: 0.9492\n",
            "Epoch 5/100\n",
            "363/363 [==============================] - 0s 1ms/step - loss: 0.3298 - output_1_loss: 0.3245 - output_2_loss: 0.3775 - output_1_root_mean_squared_error: 0.5697 - output_2_root_mean_squared_error: 0.6144 - val_loss: 1.2092 - val_output_1_loss: 1.1389 - val_output_2_loss: 1.8422 - val_output_1_root_mean_squared_error: 1.0672 - val_output_2_root_mean_squared_error: 1.3573\n",
            "Epoch 6/100\n",
            "363/363 [==============================] - 0s 1ms/step - loss: 0.3323 - output_1_loss: 0.3265 - output_2_loss: 0.3851 - output_1_root_mean_squared_error: 0.5714 - output_2_root_mean_squared_error: 0.6206 - val_loss: 0.6835 - val_output_1_loss: 0.6991 - val_output_2_loss: 0.5430 - val_output_1_root_mean_squared_error: 0.8361 - val_output_2_root_mean_squared_error: 0.7369\n",
            "Epoch 7/100\n",
            "363/363 [==============================] - 0s 1ms/step - loss: 0.3240 - output_1_loss: 0.3185 - output_2_loss: 0.3739 - output_1_root_mean_squared_error: 0.5643 - output_2_root_mean_squared_error: 0.6115 - val_loss: 0.3191 - val_output_1_loss: 0.3091 - val_output_2_loss: 0.4085 - val_output_1_root_mean_squared_error: 0.5560 - val_output_2_root_mean_squared_error: 0.6391\n",
            "Epoch 8/100\n",
            "363/363 [==============================] - 0s 1ms/step - loss: 0.3208 - output_1_loss: 0.3153 - output_2_loss: 0.3698 - output_1_root_mean_squared_error: 0.5615 - output_2_root_mean_squared_error: 0.6081 - val_loss: 0.4043 - val_output_1_loss: 0.4064 - val_output_2_loss: 0.3857 - val_output_1_root_mean_squared_error: 0.6375 - val_output_2_root_mean_squared_error: 0.6210\n",
            "Epoch 9/100\n",
            "363/363 [==============================] - 0s 1ms/step - loss: 0.3204 - output_1_loss: 0.3149 - output_2_loss: 0.3699 - output_1_root_mean_squared_error: 0.5612 - output_2_root_mean_squared_error: 0.6082 - val_loss: 0.3803 - val_output_1_loss: 0.3658 - val_output_2_loss: 0.5103 - val_output_1_root_mean_squared_error: 0.6048 - val_output_2_root_mean_squared_error: 0.7144\n",
            "Epoch 10/100\n",
            "363/363 [==============================] - 0s 1ms/step - loss: 0.3248 - output_1_loss: 0.3196 - output_2_loss: 0.3714 - output_1_root_mean_squared_error: 0.5653 - output_2_root_mean_squared_error: 0.6094 - val_loss: 0.5213 - val_output_1_loss: 0.5291 - val_output_2_loss: 0.4516 - val_output_1_root_mean_squared_error: 0.7274 - val_output_2_root_mean_squared_error: 0.6720\n",
            "Epoch 11/100\n",
            "363/363 [==============================] - 0s 1ms/step - loss: 0.3180 - output_1_loss: 0.3127 - output_2_loss: 0.3662 - output_1_root_mean_squared_error: 0.5592 - output_2_root_mean_squared_error: 0.6052 - val_loss: 0.3133 - val_output_1_loss: 0.2994 - val_output_2_loss: 0.4380 - val_output_1_root_mean_squared_error: 0.5472 - val_output_2_root_mean_squared_error: 0.6618\n",
            "Epoch 12/100\n",
            "363/363 [==============================] - 1s 1ms/step - loss: 0.3214 - output_1_loss: 0.3161 - output_2_loss: 0.3691 - output_1_root_mean_squared_error: 0.5623 - output_2_root_mean_squared_error: 0.6075 - val_loss: 0.8991 - val_output_1_loss: 0.9115 - val_output_2_loss: 0.7880 - val_output_1_root_mean_squared_error: 0.9547 - val_output_2_root_mean_squared_error: 0.8877\n",
            "Epoch 13/100\n",
            "363/363 [==============================] - 0s 1ms/step - loss: 0.3199 - output_1_loss: 0.3146 - output_2_loss: 0.3677 - output_1_root_mean_squared_error: 0.5609 - output_2_root_mean_squared_error: 0.6063 - val_loss: 0.3675 - val_output_1_loss: 0.3617 - val_output_2_loss: 0.4196 - val_output_1_root_mean_squared_error: 0.6014 - val_output_2_root_mean_squared_error: 0.6478\n",
            "Epoch 14/100\n",
            "363/363 [==============================] - 0s 1ms/step - loss: 0.3169 - output_1_loss: 0.3117 - output_2_loss: 0.3638 - output_1_root_mean_squared_error: 0.5583 - output_2_root_mean_squared_error: 0.6031 - val_loss: 0.5563 - val_output_1_loss: 0.5587 - val_output_2_loss: 0.5350 - val_output_1_root_mean_squared_error: 0.7474 - val_output_2_root_mean_squared_error: 0.7314\n",
            "Epoch 15/100\n",
            "363/363 [==============================] - 0s 1ms/step - loss: 0.3172 - output_1_loss: 0.3120 - output_2_loss: 0.3646 - output_1_root_mean_squared_error: 0.5585 - output_2_root_mean_squared_error: 0.6038 - val_loss: 0.5467 - val_output_1_loss: 0.5101 - val_output_2_loss: 0.8759 - val_output_1_root_mean_squared_error: 0.7142 - val_output_2_root_mean_squared_error: 0.9359\n",
            "Epoch 16/100\n",
            "363/363 [==============================] - 0s 1ms/step - loss: 0.3179 - output_1_loss: 0.3125 - output_2_loss: 0.3664 - output_1_root_mean_squared_error: 0.5590 - output_2_root_mean_squared_error: 0.6053 - val_loss: 1.0977 - val_output_1_loss: 1.1150 - val_output_2_loss: 0.9422 - val_output_1_root_mean_squared_error: 1.0559 - val_output_2_root_mean_squared_error: 0.9707\n",
            "Epoch 17/100\n",
            "363/363 [==============================] - 0s 1ms/step - loss: 0.3237 - output_1_loss: 0.3184 - output_2_loss: 0.3715 - output_1_root_mean_squared_error: 0.5642 - output_2_root_mean_squared_error: 0.6095 - val_loss: 0.9017 - val_output_1_loss: 0.8463 - val_output_2_loss: 1.4002 - val_output_1_root_mean_squared_error: 0.9200 - val_output_2_root_mean_squared_error: 1.1833\n",
            "Epoch 18/100\n",
            "363/363 [==============================] - 0s 1ms/step - loss: 0.3179 - output_1_loss: 0.3127 - output_2_loss: 0.3650 - output_1_root_mean_squared_error: 0.5592 - output_2_root_mean_squared_error: 0.6042 - val_loss: 0.5625 - val_output_1_loss: 0.5733 - val_output_2_loss: 0.4653 - val_output_1_root_mean_squared_error: 0.7571 - val_output_2_root_mean_squared_error: 0.6822\n",
            "Epoch 19/100\n",
            "363/363 [==============================] - 0s 1ms/step - loss: 0.3122 - output_1_loss: 0.3072 - output_2_loss: 0.3578 - output_1_root_mean_squared_error: 0.5542 - output_2_root_mean_squared_error: 0.5981 - val_loss: 0.3295 - val_output_1_loss: 0.3257 - val_output_2_loss: 0.3636 - val_output_1_root_mean_squared_error: 0.5707 - val_output_2_root_mean_squared_error: 0.6030\n",
            "Epoch 20/100\n",
            "363/363 [==============================] - 0s 1ms/step - loss: 0.3116 - output_1_loss: 0.3066 - output_2_loss: 0.3567 - output_1_root_mean_squared_error: 0.5537 - output_2_root_mean_squared_error: 0.5972 - val_loss: 0.4096 - val_output_1_loss: 0.4120 - val_output_2_loss: 0.3883 - val_output_1_root_mean_squared_error: 0.6419 - val_output_2_root_mean_squared_error: 0.6231\n",
            "Epoch 21/100\n",
            "363/363 [==============================] - 0s 1ms/step - loss: 0.3112 - output_1_loss: 0.3062 - output_2_loss: 0.3559 - output_1_root_mean_squared_error: 0.5533 - output_2_root_mean_squared_error: 0.5966 - val_loss: 0.3464 - val_output_1_loss: 0.3422 - val_output_2_loss: 0.3846 - val_output_1_root_mean_squared_error: 0.5849 - val_output_2_root_mean_squared_error: 0.6202\n"
          ]
        }
      ],
      "source": [
        "early_stopping_cb = tf.keras.callbacks.EarlyStopping(patience=10,\n",
        "                                                     restore_best_weights=True)\n",
        "history = model.fit(\n",
        "    (X_train_wide, X_train_deep), (y_train, y_train), epochs=100,\n",
        "    validation_data=((X_valid_wide, X_valid_deep), (y_valid, y_valid)),\n",
        "    callbacks=[checkpoint_cb, early_stopping_cb])"
      ]
    },
    {
      "cell_type": "code",
      "execution_count": 82,
      "metadata": {
        "id": "CgWSbwA89bzX"
      },
      "outputs": [],
      "source": [
        "class PrintValTrainRatioCallback(tf.keras.callbacks.Callback):\n",
        "    def on_epoch_end(self, epoch, logs):\n",
        "        ratio = logs[\"val_loss\"] / logs[\"loss\"]\n",
        "        print(f\"Epoch={epoch}, val/train={ratio:.2f}\")"
      ]
    },
    {
      "cell_type": "code",
      "execution_count": 83,
      "metadata": {
        "id": "Bo2rjuEc9bzY",
        "outputId": "4de60794-e5ac-489e-b6f9-8f8166338d10"
      },
      "outputs": [
        {
          "name": "stdout",
          "output_type": "stream",
          "text": [
            "Epoch=0, val/train=1.12\n",
            "Epoch=1, val/train=1.62\n",
            "Epoch=2, val/train=1.04\n",
            "Epoch=3, val/train=2.36\n",
            "Epoch=4, val/train=5.29\n",
            "Epoch=5, val/train=1.21\n",
            "Epoch=6, val/train=3.69\n",
            "Epoch=7, val/train=2.85\n",
            "Epoch=8, val/train=1.25\n",
            "Epoch=9, val/train=1.34\n"
          ]
        }
      ],
      "source": [
        "val_train_ratio_cb = PrintValTrainRatioCallback()\n",
        "history = model.fit(\n",
        "    (X_train_wide, X_train_deep), (y_train, y_train), epochs=10,\n",
        "    validation_data=((X_valid_wide, X_valid_deep), (y_valid, y_valid)),\n",
        "    callbacks=[val_train_ratio_cb], verbose=0)"
      ]
    },
    {
      "cell_type": "markdown",
      "metadata": {
        "id": "c32WfCpp9bzY"
      },
      "source": [
        "## Using TensorBoard for Visualization"
      ]
    },
    {
      "cell_type": "markdown",
      "metadata": {
        "id": "02BSY7eS9bzY"
      },
      "source": [
        "TensorBoard is preinstalled on Colab, but not the `tensorboard-plugin-profile`, so let's install it:"
      ]
    },
    {
      "cell_type": "code",
      "execution_count": 84,
      "metadata": {
        "id": "hRsfKAr09bzY"
      },
      "outputs": [],
      "source": [
        "if \"google.colab\" in sys.modules:  # extra code\n",
        "    %pip install -q -U tensorboard-plugin-profile"
      ]
    },
    {
      "cell_type": "code",
      "execution_count": 85,
      "metadata": {
        "id": "lEY61hTV9bzY",
        "tags": []
      },
      "outputs": [],
      "source": [
        "shutil.rmtree(\"my_logs\", ignore_errors=True)"
      ]
    },
    {
      "cell_type": "code",
      "execution_count": 86,
      "metadata": {
        "id": "Va2UizHD9bzY"
      },
      "outputs": [],
      "source": [
        "from pathlib import Path\n",
        "from time import strftime\n",
        "\n",
        "def get_run_logdir(root_logdir=\"my_logs\"):\n",
        "    return Path(root_logdir) / strftime(\"run_%Y_%m_%d_%H_%M_%S\")\n",
        "\n",
        "run_logdir = get_run_logdir()"
      ]
    },
    {
      "cell_type": "code",
      "execution_count": 87,
      "metadata": {
        "id": "dh4a58Uq9bzY"
      },
      "outputs": [],
      "source": [
        "# extra code – builds the first regression model we used earlier\n",
        "tf.keras.backend.clear_session()\n",
        "tf.random.set_seed(42)\n",
        "norm_layer = tf.keras.layers.Normalization(input_shape=X_train.shape[1:])\n",
        "model = tf.keras.Sequential([\n",
        "    norm_layer,\n",
        "    tf.keras.layers.Dense(30, activation=\"relu\"),\n",
        "    tf.keras.layers.Dense(30, activation=\"relu\"),\n",
        "    tf.keras.layers.Dense(1)\n",
        "])\n",
        "optimizer = tf.keras.optimizers.SGD(learning_rate=1e-3)\n",
        "model.compile(loss=\"mse\", optimizer=optimizer, metrics=[\"RootMeanSquaredError\"])\n",
        "norm_layer.adapt(X_train)"
      ]
    },
    {
      "cell_type": "code",
      "execution_count": 88,
      "metadata": {
        "id": "nfwp0i5w9bzY",
        "outputId": "e7709cec-8c66-4ade-93f0-6b0d299d4a2c"
      },
      "outputs": [
        {
          "name": "stdout",
          "output_type": "stream",
          "text": [
            "Epoch 1/20\n"
          ]
        },
        {
          "name": "stdout",
          "output_type": "stream",
          "text": [
            "363/363 [==============================] - 1s 1ms/step - loss: 1.8197 - root_mean_squared_error: 1.3490 - val_loss: 0.7865 - val_root_mean_squared_error: 0.8869\n",
            "Epoch 2/20\n",
            "363/363 [==============================] - 0s 1ms/step - loss: 0.7095 - root_mean_squared_error: 0.8423 - val_loss: 0.6545 - val_root_mean_squared_error: 0.8090\n",
            "Epoch 3/20\n",
            "363/363 [==============================] - 0s 1ms/step - loss: 0.6323 - root_mean_squared_error: 0.7952 - val_loss: 0.6344 - val_root_mean_squared_error: 0.7965\n",
            "Epoch 4/20\n",
            "363/363 [==============================] - 0s 1ms/step - loss: 0.5840 - root_mean_squared_error: 0.7642 - val_loss: 0.5599 - val_root_mean_squared_error: 0.7483\n",
            "Epoch 5/20\n",
            "363/363 [==============================] - 0s 1ms/step - loss: 0.5487 - root_mean_squared_error: 0.7408 - val_loss: 0.5112 - val_root_mean_squared_error: 0.7150\n",
            "Epoch 6/20\n",
            "363/363 [==============================] - 0s 1ms/step - loss: 0.5213 - root_mean_squared_error: 0.7220 - val_loss: 0.4830 - val_root_mean_squared_error: 0.6950\n",
            "Epoch 7/20\n",
            "363/363 [==============================] - 0s 1ms/step - loss: 0.5002 - root_mean_squared_error: 0.7072 - val_loss: 0.4633 - val_root_mean_squared_error: 0.6807\n",
            "Epoch 8/20\n",
            "363/363 [==============================] - 0s 1ms/step - loss: 0.4834 - root_mean_squared_error: 0.6953 - val_loss: 0.4417 - val_root_mean_squared_error: 0.6646\n",
            "Epoch 9/20\n",
            "363/363 [==============================] - 0s 1ms/step - loss: 0.4697 - root_mean_squared_error: 0.6854 - val_loss: 0.4278 - val_root_mean_squared_error: 0.6541\n",
            "Epoch 10/20\n",
            "363/363 [==============================] - 0s 1ms/step - loss: 0.4583 - root_mean_squared_error: 0.6770 - val_loss: 0.4173 - val_root_mean_squared_error: 0.6460\n",
            "Epoch 11/20\n",
            "363/363 [==============================] - 0s 1ms/step - loss: 0.4490 - root_mean_squared_error: 0.6701 - val_loss: 0.4106 - val_root_mean_squared_error: 0.6408\n",
            "Epoch 12/20\n",
            "363/363 [==============================] - 0s 1ms/step - loss: 0.4408 - root_mean_squared_error: 0.6639 - val_loss: 0.4038 - val_root_mean_squared_error: 0.6354\n",
            "Epoch 13/20\n",
            "363/363 [==============================] - 0s 1ms/step - loss: 0.4339 - root_mean_squared_error: 0.6587 - val_loss: 0.4010 - val_root_mean_squared_error: 0.6332\n",
            "Epoch 14/20\n",
            "363/363 [==============================] - 0s 1ms/step - loss: 0.4276 - root_mean_squared_error: 0.6539 - val_loss: 0.3966 - val_root_mean_squared_error: 0.6298\n",
            "Epoch 15/20\n",
            "363/363 [==============================] - 0s 1ms/step - loss: 0.4222 - root_mean_squared_error: 0.6498 - val_loss: 0.3941 - val_root_mean_squared_error: 0.6278\n",
            "Epoch 16/20\n",
            "363/363 [==============================] - 0s 1ms/step - loss: 0.4172 - root_mean_squared_error: 0.6459 - val_loss: 0.3895 - val_root_mean_squared_error: 0.6241\n",
            "Epoch 17/20\n",
            "363/363 [==============================] - 0s 1ms/step - loss: 0.4129 - root_mean_squared_error: 0.6426 - val_loss: 0.3888 - val_root_mean_squared_error: 0.6235\n",
            "Epoch 18/20\n",
            "363/363 [==============================] - 0s 1ms/step - loss: 0.4088 - root_mean_squared_error: 0.6394 - val_loss: 0.3880 - val_root_mean_squared_error: 0.6229\n",
            "Epoch 19/20\n",
            "363/363 [==============================] - 0s 1ms/step - loss: 0.4048 - root_mean_squared_error: 0.6363 - val_loss: 0.3811 - val_root_mean_squared_error: 0.6174\n",
            "Epoch 20/20\n",
            "363/363 [==============================] - 0s 1ms/step - loss: 0.4019 - root_mean_squared_error: 0.6339 - val_loss: 0.3891 - val_root_mean_squared_error: 0.6238\n"
          ]
        }
      ],
      "source": [
        "tensorboard_cb = tf.keras.callbacks.TensorBoard(run_logdir,\n",
        "                                                profile_batch=(100, 200))\n",
        "history = model.fit(X_train, y_train, epochs=20,\n",
        "                    validation_data=(X_valid, y_valid),\n",
        "                    callbacks=[tensorboard_cb])"
      ]
    },
    {
      "cell_type": "code",
      "execution_count": 89,
      "metadata": {
        "id": "X-u3NHsO9bzY",
        "outputId": "1a802028-9e0c-4d1f-9146-2e462bd3e154"
      },
      "outputs": [
        {
          "name": "stdout",
          "output_type": "stream",
          "text": [
            "my_logs\n",
            "  run_2023_09_13_17_33_19\n",
            "    plugins\n",
            "      profile\n",
            "        2023_09_13_21_33_19\n",
            "          JKS-HP-V.xplane.pb\n",
            "    train\n",
            "      events.out.tfevents.1694640799.JKS-HP-V.14800.0.v2\n",
            "    validation\n",
            "      events.out.tfevents.1694640800.JKS-HP-V.14800.1.v2\n"
          ]
        }
      ],
      "source": [
        "print(\"my_logs\")\n",
        "for path in sorted(Path(\"my_logs\").glob(\"**/*\")):\n",
        "    print(\"  \" * (len(path.parts) - 1) + path.parts[-1])"
      ]
    },
    {
      "cell_type": "markdown",
      "metadata": {
        "id": "F8wvO05C9bzY"
      },
      "source": [
        "Let's load the `tensorboard` Jupyter extension and start the TensorBoard server:"
      ]
    },
    {
      "cell_type": "code",
      "execution_count": 90,
      "metadata": {
        "id": "ymx5U80q9bzY",
        "outputId": "19844f93-344f-441c-9443-7acb16aa1530"
      },
      "outputs": [
        {
          "data": {
            "text/plain": [
              "Reusing TensorBoard on port 6006 (pid 9964), started 0:09:34 ago. (Use '!kill 9964' to kill it.)"
            ]
          },
          "metadata": {},
          "output_type": "display_data"
        },
        {
          "data": {
            "text/html": [
              "\n",
              "      <iframe id=\"tensorboard-frame-67aed5c22619484a\" width=\"100%\" height=\"800\" frameborder=\"0\">\n",
              "      </iframe>\n",
              "      <script>\n",
              "        (function() {\n",
              "          const frame = document.getElementById(\"tensorboard-frame-67aed5c22619484a\");\n",
              "          const url = new URL(\"http://localhost\");\n",
              "          const port = 6006;\n",
              "          if (port) {\n",
              "            url.port = port;\n",
              "          }\n",
              "          frame.src = url;\n",
              "        })();\n",
              "      </script>\n",
              "    "
            ],
            "text/plain": [
              "<IPython.core.display.HTML object>"
            ]
          },
          "metadata": {},
          "output_type": "display_data"
        }
      ],
      "source": [
        "%load_ext tensorboard\n",
        "%tensorboard --logdir=./my_logs"
      ]
    },
    {
      "cell_type": "markdown",
      "metadata": {
        "id": "GprceolK9bzY"
      },
      "source": [
        "**Note**: if you prefer to access TensorBoard in a separate tab, click the \"localhost:6006\" link below:"
      ]
    },
    {
      "cell_type": "code",
      "execution_count": 91,
      "metadata": {
        "id": "CkWg0iI09bzY",
        "outputId": "d8397252-3730-48c0-db63-4297cf2eac3b"
      },
      "outputs": [
        {
          "data": {
            "text/html": [
              "<a href=\"http://localhost:6006/\">http://localhost:6006/</a>"
            ],
            "text/plain": [
              "<IPython.core.display.HTML object>"
            ]
          },
          "metadata": {},
          "output_type": "display_data"
        }
      ],
      "source": [
        "# extra code\n",
        "\n",
        "if \"google.colab\" in sys.modules:\n",
        "    from google.colab import output\n",
        "\n",
        "    output.serve_kernel_port_as_window(6006)\n",
        "else:\n",
        "    from IPython.display import display, HTML\n",
        "\n",
        "    display(HTML('<a href=\"http://localhost:6006/\">http://localhost:6006/</a>'))"
      ]
    },
    {
      "cell_type": "markdown",
      "metadata": {
        "id": "5_V-4t129bzZ"
      },
      "source": [
        "You can use also visualize histograms, images, text, and even listen to audio using TensorBoard:"
      ]
    },
    {
      "cell_type": "code",
      "execution_count": 92,
      "metadata": {
        "id": "vrZ2f1qQ9bzZ"
      },
      "outputs": [],
      "source": [
        "test_logdir = get_run_logdir()\n",
        "writer = tf.summary.create_file_writer(str(test_logdir))\n",
        "with writer.as_default():\n",
        "    for step in range(1, 1000 + 1):\n",
        "        tf.summary.scalar(\"my_scalar\", np.sin(step / 10), step=step)\n",
        "\n",
        "        data = (np.random.randn(100) + 2) * step / 100  # gets larger\n",
        "        tf.summary.histogram(\"my_hist\", data, buckets=50, step=step)\n",
        "\n",
        "        images = np.random.rand(2, 32, 32, 3) * step / 1000  # gets brighter\n",
        "        tf.summary.image(\"my_images\", images, step=step)\n",
        "\n",
        "        texts = [\"The step is \" + str(step), \"Its square is \" + str(step ** 2)]\n",
        "        tf.summary.text(\"my_text\", texts, step=step)\n",
        "\n",
        "        sine_wave = tf.math.sin(tf.range(12000) / 48000 * 2 * np.pi * step)\n",
        "        audio = tf.reshape(tf.cast(sine_wave, tf.float32), [1, -1, 1])\n",
        "        tf.summary.audio(\"my_audio\", audio, sample_rate=48000, step=step)"
      ]
    },
    {
      "cell_type": "markdown",
      "metadata": {
        "id": "18wWx1b99bzZ"
      },
      "source": [
        "You can share your TensorBoard logs with the world by uploading them to https://tensorboard.dev/. For this, you can run the `tensorboard dev upload` command, with the `--logdir` and `--one_shot` options, and optionally the `--name` and `--description` options. The first time, it will ask you to accept Google's Terms of Service, and to authenticate.\n",
        "\n",
        "Notes:\n",
        "* Authenticating requires user input. Colab supports user input from shell commands, but the main other Jupyter environments do not, so for them we use a hackish workaround (alternatively, you could run the command in a terminal window, after you make sure to activate this project's conda environment and move to this notebook's directory).\n",
        "* If you get an authentication related error (such as *invalid_grant: Bad Request*), it's likely that your login session has expired. In this case, try running the command `tensorboard dev auth revoke` to logout, and try again."
      ]
    },
    {
      "cell_type": "code",
      "execution_count": 122,
      "metadata": {
        "id": "FnEvbw-T9bzZ",
        "outputId": "4bc5b68a-f55e-4e16-9119-c66ea5417e0a"
      },
      "outputs": [
        {
          "name": "stderr",
          "output_type": "stream",
          "text": [
            "\n",
            "***** TensorBoard Uploader *****\n",
            "\n",
            "This will upload your TensorBoard logs to https://tensorboard.dev/ from\n",
            "the following directory:\n",
            "\n",
            "./my_logs\n",
            "\n",
            "This TensorBoard will be visible to everyone. Do not upload sensitive\n",
            "data.\n",
            "\n",
            "Your use of this service is subject to Google's Terms of Service\n",
            "<https://policies.google.com/terms> and Privacy Policy\n",
            "<https://policies.google.com/privacy>, and TensorBoard.dev's Terms of Service\n",
            "<https://tensorboard.dev/policy/terms/>.\n",
            "\n",
            "This notice will not be shown again while you are logged into the uploader.\n",
            "To log out, run `tensorboard dev auth revoke`.\n",
            "\n"
          ]
        }
      ],
      "source": [
        "# extra code\n",
        "\n",
        "if \"google.colab\" in sys.modules:\n",
        "    !tensorboard dev upload --logdir ./my_logs --one_shot \\\n",
        "                            --name \"Quick test\" --description \"This is a test\"\n",
        "else:\n",
        "    from tensorboard.main import run_main\n",
        "\n",
        "    argv = \"tensorboard dev upload --logdir ./my_logs --one_shot\".split()\n",
        "    argv += [\"--name\", \"Quick test\", \"--description\", \"This is a test\"]\n",
        "    try:\n",
        "        original_sys_argv_and_sys_exit = sys.argv, sys.exit\n",
        "        sys.argv, sys.exit = argv, lambda status: None\n",
        "        run_main()\n",
        "    finally:\n",
        "        sys.argv, sys.exit = original_sys_argv_and_sys_exit"
      ]
    },
    {
      "cell_type": "markdown",
      "metadata": {
        "id": "J7iB6-cd9bzZ"
      },
      "source": [
        "You can get list your published experiments:"
      ]
    },
    {
      "cell_type": "code",
      "execution_count": 93,
      "metadata": {
        "id": "AgThEzmU9bzZ",
        "outputId": "0cb5cbc8-5157-42bc-ca4d-ce8857de4a20"
      },
      "outputs": [
        {
          "name": "stdout",
          "output_type": "stream",
          "text": [
            "^C\n"
          ]
        }
      ],
      "source": [
        "!tensorboard dev list"
      ]
    },
    {
      "cell_type": "markdown",
      "metadata": {
        "id": "UkoNNPWx9bzZ"
      },
      "source": [
        "To delete an experiment, use the following command:\n",
        "\n",
        "```python\n",
        "!tensorboard dev delete --experiment_id <experiment_id>\n",
        "```"
      ]
    },
    {
      "cell_type": "markdown",
      "metadata": {
        "id": "j5eZkDwL9bzZ"
      },
      "source": [
        "When you stop this Jupyter kernel (a.k.a. Runtime), it will automatically stop the TensorBoard server as well. Another way to stop the TensorBoard server is to kill it, if you are running on Linux or MacOSX. First, you need to find its process ID:"
      ]
    },
    {
      "cell_type": "code",
      "execution_count": 94,
      "metadata": {
        "id": "CGzY0s6X9bzZ",
        "outputId": "de4deec5-c422-4867-b759-bb1eeaea9264"
      },
      "outputs": [
        {
          "name": "stdout",
          "output_type": "stream",
          "text": [
            "Known TensorBoard instances:\n",
            "  - port 6006: logdir ./my_logs (started 0:15:15 ago; pid 9964)\n"
          ]
        }
      ],
      "source": [
        "# extra code – lists all running TensorBoard server instances\n",
        "\n",
        "from tensorboard import notebook\n",
        "\n",
        "notebook.list()"
      ]
    },
    {
      "cell_type": "markdown",
      "metadata": {
        "id": "pQonCgeL9bzZ"
      },
      "source": [
        "Next you can use the following command on Linux or MacOSX, replacing `<pid>` with the pid listed above:\n",
        "\n",
        "    !kill <pid>\n",
        "\n",
        "On Windows:\n",
        "\n",
        "    !taskkill /F /PID <pid>"
      ]
    },
    {
      "cell_type": "markdown",
      "metadata": {
        "id": "BdRqxpP19bzZ"
      },
      "source": [
        "# Fine-Tuning Neural Network Hyperparameters"
      ]
    },
    {
      "cell_type": "markdown",
      "metadata": {
        "id": "OYnu30HA9bzZ"
      },
      "source": [
        "In this section we'll use the Fashion MNIST dataset again:"
      ]
    },
    {
      "cell_type": "code",
      "execution_count": 95,
      "metadata": {
        "id": "sLKE3ogb9bzZ"
      },
      "outputs": [],
      "source": [
        "(X_train_full, y_train_full), (X_test, y_test) = fashion_mnist\n",
        "X_train, y_train = X_train_full[:-5000], y_train_full[:-5000]\n",
        "X_valid, y_valid = X_train_full[-5000:], y_train_full[-5000:]"
      ]
    },
    {
      "cell_type": "code",
      "execution_count": 96,
      "metadata": {
        "id": "cvIhOoJV9bzZ"
      },
      "outputs": [],
      "source": [
        "tf.keras.backend.clear_session()\n",
        "tf.random.set_seed(42)"
      ]
    },
    {
      "cell_type": "code",
      "execution_count": 97,
      "metadata": {
        "id": "-x4G7I8-9bzZ"
      },
      "outputs": [],
      "source": [
        "if \"google.colab\" in sys.modules:\n",
        "    %pip install -q -U keras_tuner"
      ]
    },
    {
      "cell_type": "code",
      "execution_count": 100,
      "metadata": {
        "id": "4v7c0FE_9bzZ"
      },
      "outputs": [
        {
          "ename": "ModuleNotFoundError",
          "evalue": "No module named 'keras_tuner'",
          "output_type": "error",
          "traceback": [
            "\u001b[1;31m---------------------------------------------------------------------------\u001b[0m",
            "\u001b[1;31mModuleNotFoundError\u001b[0m                       Traceback (most recent call last)",
            "Cell \u001b[1;32mIn[100], line 1\u001b[0m\n\u001b[1;32m----> 1\u001b[0m \u001b[39mimport\u001b[39;00m \u001b[39mkeras_tuner\u001b[39;00m \u001b[39mas\u001b[39;00m \u001b[39mkt\u001b[39;00m\n\u001b[0;32m      3\u001b[0m \u001b[39mdef\u001b[39;00m \u001b[39mbuild_model\u001b[39m(hp):\n\u001b[0;32m      4\u001b[0m     n_hidden \u001b[39m=\u001b[39m hp\u001b[39m.\u001b[39mInt(\u001b[39m\"\u001b[39m\u001b[39mn_hidden\u001b[39m\u001b[39m\"\u001b[39m, min_value\u001b[39m=\u001b[39m\u001b[39m0\u001b[39m, max_value\u001b[39m=\u001b[39m\u001b[39m8\u001b[39m, default\u001b[39m=\u001b[39m\u001b[39m2\u001b[39m)\n",
            "\u001b[1;31mModuleNotFoundError\u001b[0m: No module named 'keras_tuner'"
          ]
        }
      ],
      "source": [
        "import keras_tuner as kt\n",
        "\n",
        "def build_model(hp):\n",
        "    n_hidden = hp.Int(\"n_hidden\", min_value=0, max_value=8, default=2)\n",
        "    n_neurons = hp.Int(\"n_neurons\", min_value=16, max_value=256)\n",
        "    learning_rate = hp.Float(\"learning_rate\", min_value=1e-4, max_value=1e-2,\n",
        "                             sampling=\"log\")\n",
        "    optimizer = hp.Choice(\"optimizer\", values=[\"sgd\", \"adam\"])\n",
        "    if optimizer == \"sgd\":\n",
        "        optimizer = tf.keras.optimizers.SGD(learning_rate=learning_rate)\n",
        "    else:\n",
        "        optimizer = tf.keras.optimizers.Adam(learning_rate=learning_rate)\n",
        "\n",
        "    model = tf.keras.Sequential()\n",
        "    model.add(tf.keras.layers.Flatten())\n",
        "    for _ in range(n_hidden):\n",
        "        model.add(tf.keras.layers.Dense(n_neurons, activation=\"relu\"))\n",
        "    model.add(tf.keras.layers.Dense(10, activation=\"softmax\"))\n",
        "    model.compile(loss=\"sparse_categorical_crossentropy\", optimizer=optimizer,\n",
        "                  metrics=[\"accuracy\"])\n",
        "    return model"
      ]
    },
    {
      "cell_type": "code",
      "execution_count": 101,
      "metadata": {
        "id": "_WaXwSMO9bzZ",
        "outputId": "de2068c4-b679-4659-8b00-60bade89f5f4"
      },
      "outputs": [
        {
          "ename": "NameError",
          "evalue": "name 'kt' is not defined",
          "output_type": "error",
          "traceback": [
            "\u001b[1;31m---------------------------------------------------------------------------\u001b[0m",
            "\u001b[1;31mNameError\u001b[0m                                 Traceback (most recent call last)",
            "Cell \u001b[1;32mIn[101], line 1\u001b[0m\n\u001b[1;32m----> 1\u001b[0m random_search_tuner \u001b[39m=\u001b[39m kt\u001b[39m.\u001b[39mRandomSearch(\n\u001b[0;32m      2\u001b[0m     build_model, objective\u001b[39m=\u001b[39m\u001b[39m\"\u001b[39m\u001b[39mval_accuracy\u001b[39m\u001b[39m\"\u001b[39m, max_trials\u001b[39m=\u001b[39m\u001b[39m5\u001b[39m, overwrite\u001b[39m=\u001b[39m\u001b[39mTrue\u001b[39;00m,\n\u001b[0;32m      3\u001b[0m     directory\u001b[39m=\u001b[39m\u001b[39m\"\u001b[39m\u001b[39mmy_fashion_mnist\u001b[39m\u001b[39m\"\u001b[39m, project_name\u001b[39m=\u001b[39m\u001b[39m\"\u001b[39m\u001b[39mmy_rnd_search\u001b[39m\u001b[39m\"\u001b[39m, seed\u001b[39m=\u001b[39m\u001b[39m42\u001b[39m)\n\u001b[0;32m      4\u001b[0m random_search_tuner\u001b[39m.\u001b[39msearch(X_train, y_train, epochs\u001b[39m=\u001b[39m\u001b[39m10\u001b[39m,\n\u001b[0;32m      5\u001b[0m                            validation_data\u001b[39m=\u001b[39m(X_valid, y_valid))\n",
            "\u001b[1;31mNameError\u001b[0m: name 'kt' is not defined"
          ]
        }
      ],
      "source": [
        "random_search_tuner = kt.RandomSearch(\n",
        "    build_model, objective=\"val_accuracy\", max_trials=5, overwrite=True,\n",
        "    directory=\"my_fashion_mnist\", project_name=\"my_rnd_search\", seed=42)\n",
        "random_search_tuner.search(X_train, y_train, epochs=10,\n",
        "                           validation_data=(X_valid, y_valid))"
      ]
    },
    {
      "cell_type": "code",
      "execution_count": 102,
      "metadata": {
        "id": "kUvuAgN99bza"
      },
      "outputs": [
        {
          "ename": "NameError",
          "evalue": "name 'random_search_tuner' is not defined",
          "output_type": "error",
          "traceback": [
            "\u001b[1;31m---------------------------------------------------------------------------\u001b[0m",
            "\u001b[1;31mNameError\u001b[0m                                 Traceback (most recent call last)",
            "Cell \u001b[1;32mIn[102], line 1\u001b[0m\n\u001b[1;32m----> 1\u001b[0m top3_models \u001b[39m=\u001b[39m random_search_tuner\u001b[39m.\u001b[39mget_best_models(num_models\u001b[39m=\u001b[39m\u001b[39m3\u001b[39m)\n\u001b[0;32m      2\u001b[0m best_model \u001b[39m=\u001b[39m top3_models[\u001b[39m0\u001b[39m]\n",
            "\u001b[1;31mNameError\u001b[0m: name 'random_search_tuner' is not defined"
          ]
        }
      ],
      "source": [
        "top3_models = random_search_tuner.get_best_models(num_models=3)\n",
        "best_model = top3_models[0]"
      ]
    },
    {
      "cell_type": "code",
      "execution_count": 103,
      "metadata": {
        "id": "74wNSnDl9bza",
        "outputId": "cb3798da-1010-4c56-8b2d-fe8518ded265"
      },
      "outputs": [
        {
          "ename": "NameError",
          "evalue": "name 'random_search_tuner' is not defined",
          "output_type": "error",
          "traceback": [
            "\u001b[1;31m---------------------------------------------------------------------------\u001b[0m",
            "\u001b[1;31mNameError\u001b[0m                                 Traceback (most recent call last)",
            "Cell \u001b[1;32mIn[103], line 1\u001b[0m\n\u001b[1;32m----> 1\u001b[0m top3_params \u001b[39m=\u001b[39m random_search_tuner\u001b[39m.\u001b[39mget_best_hyperparameters(num_trials\u001b[39m=\u001b[39m\u001b[39m3\u001b[39m)\n\u001b[0;32m      2\u001b[0m top3_params[\u001b[39m0\u001b[39m]\u001b[39m.\u001b[39mvalues\n",
            "\u001b[1;31mNameError\u001b[0m: name 'random_search_tuner' is not defined"
          ]
        }
      ],
      "source": [
        "top3_params = random_search_tuner.get_best_hyperparameters(num_trials=3)\n",
        "top3_params[0].values  # best hyperparameter values"
      ]
    },
    {
      "cell_type": "code",
      "execution_count": 104,
      "metadata": {
        "id": "fkUlAMn79bza",
        "outputId": "85ac92e8-04d4-4a63-fa29-59cd0e213b6e"
      },
      "outputs": [
        {
          "ename": "NameError",
          "evalue": "name 'random_search_tuner' is not defined",
          "output_type": "error",
          "traceback": [
            "\u001b[1;31m---------------------------------------------------------------------------\u001b[0m",
            "\u001b[1;31mNameError\u001b[0m                                 Traceback (most recent call last)",
            "Cell \u001b[1;32mIn[104], line 1\u001b[0m\n\u001b[1;32m----> 1\u001b[0m best_trial \u001b[39m=\u001b[39m random_search_tuner\u001b[39m.\u001b[39moracle\u001b[39m.\u001b[39mget_best_trials(num_trials\u001b[39m=\u001b[39m\u001b[39m1\u001b[39m)[\u001b[39m0\u001b[39m]\n\u001b[0;32m      2\u001b[0m best_trial\u001b[39m.\u001b[39msummary()\n",
            "\u001b[1;31mNameError\u001b[0m: name 'random_search_tuner' is not defined"
          ]
        }
      ],
      "source": [
        "best_trial = random_search_tuner.oracle.get_best_trials(num_trials=1)[0]\n",
        "best_trial.summary()"
      ]
    },
    {
      "cell_type": "code",
      "execution_count": 105,
      "metadata": {
        "id": "tMk05fa39bza",
        "outputId": "4ef324a6-8c63-477d-a9e1-7f87ed0b4b28"
      },
      "outputs": [
        {
          "ename": "NameError",
          "evalue": "name 'best_trial' is not defined",
          "output_type": "error",
          "traceback": [
            "\u001b[1;31m---------------------------------------------------------------------------\u001b[0m",
            "\u001b[1;31mNameError\u001b[0m                                 Traceback (most recent call last)",
            "Cell \u001b[1;32mIn[105], line 1\u001b[0m\n\u001b[1;32m----> 1\u001b[0m best_trial\u001b[39m.\u001b[39mmetrics\u001b[39m.\u001b[39mget_last_value(\u001b[39m\"\u001b[39m\u001b[39mval_accuracy\u001b[39m\u001b[39m\"\u001b[39m)\n",
            "\u001b[1;31mNameError\u001b[0m: name 'best_trial' is not defined"
          ]
        }
      ],
      "source": [
        "best_trial.metrics.get_last_value(\"val_accuracy\")"
      ]
    },
    {
      "cell_type": "code",
      "execution_count": 106,
      "metadata": {
        "id": "zkKkvY5Z9bza",
        "outputId": "c3d149a1-01c0-4bb1-e434-2fe97a0abfaf"
      },
      "outputs": [
        {
          "ename": "NameError",
          "evalue": "name 'best_model' is not defined",
          "output_type": "error",
          "traceback": [
            "\u001b[1;31m---------------------------------------------------------------------------\u001b[0m",
            "\u001b[1;31mNameError\u001b[0m                                 Traceback (most recent call last)",
            "Cell \u001b[1;32mIn[106], line 1\u001b[0m\n\u001b[1;32m----> 1\u001b[0m best_model\u001b[39m.\u001b[39mfit(X_train_full, y_train_full, epochs\u001b[39m=\u001b[39m\u001b[39m10\u001b[39m)\n\u001b[0;32m      2\u001b[0m test_loss, test_accuracy \u001b[39m=\u001b[39m best_model\u001b[39m.\u001b[39mevaluate(X_test, y_test)\n",
            "\u001b[1;31mNameError\u001b[0m: name 'best_model' is not defined"
          ]
        }
      ],
      "source": [
        "best_model.fit(X_train_full, y_train_full, epochs=10)\n",
        "test_loss, test_accuracy = best_model.evaluate(X_test, y_test)"
      ]
    },
    {
      "cell_type": "code",
      "execution_count": 107,
      "metadata": {
        "id": "rPrPHQ7g9bza"
      },
      "outputs": [
        {
          "ename": "NameError",
          "evalue": "name 'kt' is not defined",
          "output_type": "error",
          "traceback": [
            "\u001b[1;31m---------------------------------------------------------------------------\u001b[0m",
            "\u001b[1;31mNameError\u001b[0m                                 Traceback (most recent call last)",
            "Cell \u001b[1;32mIn[107], line 1\u001b[0m\n\u001b[1;32m----> 1\u001b[0m \u001b[39mclass\u001b[39;00m \u001b[39mMyClassificationHyperModel\u001b[39;00m(kt\u001b[39m.\u001b[39mHyperModel):\n\u001b[0;32m      2\u001b[0m     \u001b[39mdef\u001b[39;00m \u001b[39mbuild\u001b[39m(\u001b[39mself\u001b[39m, hp):\n\u001b[0;32m      3\u001b[0m         \u001b[39mreturn\u001b[39;00m build_model(hp)\n",
            "\u001b[1;31mNameError\u001b[0m: name 'kt' is not defined"
          ]
        }
      ],
      "source": [
        "class MyClassificationHyperModel(kt.HyperModel):\n",
        "    def build(self, hp):\n",
        "        return build_model(hp)\n",
        "\n",
        "    def fit(self, hp, model, X, y, **kwargs):\n",
        "        if hp.Boolean(\"normalize\"):\n",
        "            norm_layer = tf.keras.layers.Normalization()\n",
        "            X = norm_layer(X)\n",
        "        return model.fit(X, y, **kwargs)"
      ]
    },
    {
      "cell_type": "code",
      "execution_count": 108,
      "metadata": {
        "id": "NaXQgdkJ9bza"
      },
      "outputs": [
        {
          "ename": "NameError",
          "evalue": "name 'kt' is not defined",
          "output_type": "error",
          "traceback": [
            "\u001b[1;31m---------------------------------------------------------------------------\u001b[0m",
            "\u001b[1;31mNameError\u001b[0m                                 Traceback (most recent call last)",
            "Cell \u001b[1;32mIn[108], line 1\u001b[0m\n\u001b[1;32m----> 1\u001b[0m hyperband_tuner \u001b[39m=\u001b[39m kt\u001b[39m.\u001b[39mHyperband(\n\u001b[0;32m      2\u001b[0m     MyClassificationHyperModel(), objective\u001b[39m=\u001b[39m\u001b[39m\"\u001b[39m\u001b[39mval_accuracy\u001b[39m\u001b[39m\"\u001b[39m, seed\u001b[39m=\u001b[39m\u001b[39m42\u001b[39m,\n\u001b[0;32m      3\u001b[0m     max_epochs\u001b[39m=\u001b[39m\u001b[39m10\u001b[39m, factor\u001b[39m=\u001b[39m\u001b[39m3\u001b[39m, hyperband_iterations\u001b[39m=\u001b[39m\u001b[39m2\u001b[39m,\n\u001b[0;32m      4\u001b[0m     overwrite\u001b[39m=\u001b[39m\u001b[39mTrue\u001b[39;00m, directory\u001b[39m=\u001b[39m\u001b[39m\"\u001b[39m\u001b[39mmy_fashion_mnist\u001b[39m\u001b[39m\"\u001b[39m, project_name\u001b[39m=\u001b[39m\u001b[39m\"\u001b[39m\u001b[39mhyperband\u001b[39m\u001b[39m\"\u001b[39m)\n",
            "\u001b[1;31mNameError\u001b[0m: name 'kt' is not defined"
          ]
        }
      ],
      "source": [
        "hyperband_tuner = kt.Hyperband(\n",
        "    MyClassificationHyperModel(), objective=\"val_accuracy\", seed=42,\n",
        "    max_epochs=10, factor=3, hyperband_iterations=2,\n",
        "    overwrite=True, directory=\"my_fashion_mnist\", project_name=\"hyperband\")"
      ]
    },
    {
      "cell_type": "code",
      "execution_count": 109,
      "metadata": {
        "id": "mopeKKhi9bza",
        "outputId": "43672583-2df6-4df5-a239-498cf7d3c158"
      },
      "outputs": [
        {
          "ename": "NameError",
          "evalue": "name 'hyperband_tuner' is not defined",
          "output_type": "error",
          "traceback": [
            "\u001b[1;31m---------------------------------------------------------------------------\u001b[0m",
            "\u001b[1;31mNameError\u001b[0m                                 Traceback (most recent call last)",
            "Cell \u001b[1;32mIn[109], line 1\u001b[0m\n\u001b[1;32m----> 1\u001b[0m root_logdir \u001b[39m=\u001b[39m Path(hyperband_tuner\u001b[39m.\u001b[39mproject_dir) \u001b[39m/\u001b[39m \u001b[39m\"\u001b[39m\u001b[39mtensorboard\u001b[39m\u001b[39m\"\u001b[39m\n\u001b[0;32m      2\u001b[0m tensorboard_cb \u001b[39m=\u001b[39m tf\u001b[39m.\u001b[39mkeras\u001b[39m.\u001b[39mcallbacks\u001b[39m.\u001b[39mTensorBoard(root_logdir)\n\u001b[0;32m      3\u001b[0m early_stopping_cb \u001b[39m=\u001b[39m tf\u001b[39m.\u001b[39mkeras\u001b[39m.\u001b[39mcallbacks\u001b[39m.\u001b[39mEarlyStopping(patience\u001b[39m=\u001b[39m\u001b[39m2\u001b[39m)\n",
            "\u001b[1;31mNameError\u001b[0m: name 'hyperband_tuner' is not defined"
          ]
        }
      ],
      "source": [
        "root_logdir = Path(hyperband_tuner.project_dir) / \"tensorboard\"\n",
        "tensorboard_cb = tf.keras.callbacks.TensorBoard(root_logdir)\n",
        "early_stopping_cb = tf.keras.callbacks.EarlyStopping(patience=2)\n",
        "hyperband_tuner.search(X_train, y_train, epochs=10,\n",
        "                       validation_data=(X_valid, y_valid),\n",
        "                       callbacks=[early_stopping_cb, tensorboard_cb])"
      ]
    },
    {
      "cell_type": "code",
      "execution_count": 110,
      "metadata": {
        "id": "-VsaaZ3y9bza",
        "outputId": "accac014-e5c5-4719-fc56-c2924bb994ab"
      },
      "outputs": [
        {
          "ename": "NameError",
          "evalue": "name 'kt' is not defined",
          "output_type": "error",
          "traceback": [
            "\u001b[1;31m---------------------------------------------------------------------------\u001b[0m",
            "\u001b[1;31mNameError\u001b[0m                                 Traceback (most recent call last)",
            "Cell \u001b[1;32mIn[110], line 1\u001b[0m\n\u001b[1;32m----> 1\u001b[0m bayesian_opt_tuner \u001b[39m=\u001b[39m kt\u001b[39m.\u001b[39mBayesianOptimization(\n\u001b[0;32m      2\u001b[0m     MyClassificationHyperModel(), objective\u001b[39m=\u001b[39m\u001b[39m\"\u001b[39m\u001b[39mval_accuracy\u001b[39m\u001b[39m\"\u001b[39m, seed\u001b[39m=\u001b[39m\u001b[39m42\u001b[39m,\n\u001b[0;32m      3\u001b[0m     max_trials\u001b[39m=\u001b[39m\u001b[39m10\u001b[39m, alpha\u001b[39m=\u001b[39m\u001b[39m1e-4\u001b[39m, beta\u001b[39m=\u001b[39m\u001b[39m2.6\u001b[39m,\n\u001b[0;32m      4\u001b[0m     overwrite\u001b[39m=\u001b[39m\u001b[39mTrue\u001b[39;00m, directory\u001b[39m=\u001b[39m\u001b[39m\"\u001b[39m\u001b[39mmy_fashion_mnist\u001b[39m\u001b[39m\"\u001b[39m, project_name\u001b[39m=\u001b[39m\u001b[39m\"\u001b[39m\u001b[39mbayesian_opt\u001b[39m\u001b[39m\"\u001b[39m)\n\u001b[0;32m      5\u001b[0m bayesian_opt_tuner\u001b[39m.\u001b[39msearch(X_train, y_train, epochs\u001b[39m=\u001b[39m\u001b[39m10\u001b[39m,\n\u001b[0;32m      6\u001b[0m                           validation_data\u001b[39m=\u001b[39m(X_valid, y_valid),\n\u001b[0;32m      7\u001b[0m                           callbacks\u001b[39m=\u001b[39m[early_stopping_cb])\n",
            "\u001b[1;31mNameError\u001b[0m: name 'kt' is not defined"
          ]
        }
      ],
      "source": [
        "bayesian_opt_tuner = kt.BayesianOptimization(\n",
        "    MyClassificationHyperModel(), objective=\"val_accuracy\", seed=42,\n",
        "    max_trials=10, alpha=1e-4, beta=2.6,\n",
        "    overwrite=True, directory=\"my_fashion_mnist\", project_name=\"bayesian_opt\")\n",
        "bayesian_opt_tuner.search(X_train, y_train, epochs=10,\n",
        "                          validation_data=(X_valid, y_valid),\n",
        "                          callbacks=[early_stopping_cb])"
      ]
    },
    {
      "cell_type": "code",
      "execution_count": 111,
      "metadata": {
        "id": "EOTrDrWZ9bzb",
        "outputId": "a074ac4a-22fe-47aa-9775-43b6e8c2e901"
      },
      "outputs": [
        {
          "data": {
            "text/html": [
              "\n",
              "      <iframe id=\"tensorboard-frame-c79d7976ce986dfa\" width=\"100%\" height=\"800\" frameborder=\"0\">\n",
              "      </iframe>\n",
              "      <script>\n",
              "        (function() {\n",
              "          const frame = document.getElementById(\"tensorboard-frame-c79d7976ce986dfa\");\n",
              "          const url = new URL(\"/\", window.location);\n",
              "          const port = 6006;\n",
              "          if (port) {\n",
              "            url.port = port;\n",
              "          }\n",
              "          frame.src = url;\n",
              "        })();\n",
              "      </script>\n",
              "    "
            ],
            "text/plain": [
              "<IPython.core.display.HTML object>"
            ]
          },
          "metadata": {},
          "output_type": "display_data"
        }
      ],
      "source": [
        "%tensorboard --logdir {root_logdir}"
      ]
    },
    {
      "cell_type": "markdown",
      "metadata": {
        "id": "DOM5I0LZ9bzb"
      },
      "source": [
        "# Exercise solutions"
      ]
    },
    {
      "cell_type": "markdown",
      "metadata": {
        "id": "u--EXcGz9bzb"
      },
      "source": [
        "## 1. to 9."
      ]
    },
    {
      "cell_type": "markdown",
      "metadata": {
        "id": "xBgs0Qiu9bzb"
      },
      "source": [
        "1. Visit the [TensorFlow Playground](https://playground.tensorflow.org/) and play around with it, as described in this exercise.\n",
        "2. Here is a neural network based on the original artificial neurons that computes _A_ ⊕ _B_ (where ⊕ represents the exclusive OR), using the fact that _A_ ⊕ _B_ = (_A_ ∧ ¬ _B_) ∨ (¬ _A_ ∧ _B_). There are other solutions—for example, using the fact that _A_ ⊕ _B_ = (_A_ ∨ _B_) ∧ ¬(_A_ ∧ _B_), or the fact that _A_ ⊕ _B_ = (_A_ ∨ _B_) ∧ (¬ _A_ ∨ ¬ _B_), and so on.<br /><img width=\"70%\" src=\"https://github.com/ageron/handson-ml3/blob/main/images/ann/exercise2.png?raw=1\" />\n",
        "3. A classical Perceptron will converge only if the dataset is linearly separable, and it won't be able to estimate class probabilities. In contrast, a Logistic Regression classifier will generally converge to a reasonably good solution even if the dataset is not linearly separable, and it will output class probabilities. If you change the Perceptron's activation function to the sigmoid activation function (or the softmax activation function if there are multiple neurons), and if you train it using Gradient Descent (or some other optimization algorithm minimizing the cost function, typically cross entropy), then it becomes equivalent to a Logistic Regression classifier.\n",
        "4. The sigmoid activation function was a key ingredient in training the first MLPs because its derivative is always nonzero, so Gradient Descent can always roll down the slope. When the activation function is a step function, Gradient Descent cannot move, as there is no slope at all.\n",
        "5. Popular activation functions include the step function, the sigmoid function, the hyperbolic tangent (tanh) function, and the Rectified Linear Unit (ReLU) function (see Figure 10-8). See Chapter 11 for other examples, such as ELU and variants of the ReLU function.\n",
        "6. Considering the MLP described in the question, composed of one input layer with 10 passthrough neurons, followed by one hidden layer with 50 artificial neurons, and finally one output layer with 3 artificial neurons, where all artificial neurons use the ReLU activation function:\n",
        "    * The shape of the input matrix **X** is _m_ × 10, where _m_ represents the training batch size.\n",
        "    * The shape of the hidden layer's weight matrix **W**<sub>_h_</sub> is 10 × 50, and the length of its bias vector **b**<sub>_h_</sub> is 50.\n",
        "    * The shape of the output layer's weight matrix **W**<sub>_o_</sub> is 50 × 3, and the length of its bias vector **b**<sub>_o_</sub> is 3.\n",
        "    * The shape of the network's output matrix **Y** is _m_ × 3.\n",
        "    * **Y** = ReLU(ReLU(**X** **W**<sub>_h_</sub> + **b**<sub>_h_</sub>) **W**<sub>_o_</sub> + **b**<sub>_o_</sub>). Recall that the ReLU function just sets every negative number in the matrix to zero. Also note that when you are adding a bias vector to a matrix, it is added to every single row in the matrix, which is called _broadcasting_.\n",
        "7. To classify email into spam or ham, you just need one neuron in the output layer of a neural network—for example, indicating the probability that the email is spam. You would typically use the sigmoid activation function in the output layer when estimating a probability. If instead you want to tackle MNIST, you need 10 neurons in the output layer, and you must replace the sigmoid function with the softmax activation function, which can handle multiple classes, outputting one probability per class. If you want your neural network to predict housing prices like in Chapter 2, then you need one output neuron, using no activation function at all in the output layer. Note: when the values to predict can vary by many orders of magnitude, you may want to predict the logarithm of the target value rather than the target value directly. Simply computing the exponential of the neural network's output will give you the estimated value (since exp(log _v_) = _v_).\n",
        "8. Backpropagation is a technique used to train artificial neural networks. It first computes the gradients of the cost function with regard to every model parameter (all the weights and biases), then it performs a Gradient Descent step using these gradients. This backpropagation step is typically performed thousands or millions of times, using many training batches, until the model parameters converge to values that (hopefully) minimize the cost function. To compute the gradients, backpropagation uses reverse-mode autodiff (although it wasn't called that when backpropagation was invented, and it has been reinvented several times). Reverse-mode autodiff performs a forward pass through a computation graph, computing every node's value for the current training batch, and then it performs a reverse pass, computing all the gradients at once (see Appendix B for more details). So what's the difference? Well, backpropagation refers to the whole process of training an artificial neural network using multiple backpropagation steps, each of which computes gradients and uses them to perform a Gradient Descent step. In contrast, reverse-mode autodiff is just a technique to compute gradients efficiently, and it happens to be used by backpropagation.\n",
        "9. Here is a list of all the hyperparameters you can tweak in a basic MLP: the number of hidden layers, the number of neurons in each hidden layer, and the activation function used in each hidden layer and in the output layer. In general, the ReLU activation function (or one of its variants; see Chapter 11) is a good default for the hidden layers. For the output layer, in general you will want the sigmoid activation function for binary classification, the softmax activation function for multiclass classification, or no activation function for regression. If the MLP overfits the training data, you can try reducing the number of hidden layers and reducing the number of neurons per hidden layer."
      ]
    },
    {
      "cell_type": "markdown",
      "metadata": {
        "id": "5zhetY1o9bzb"
      },
      "source": [
        "## 10."
      ]
    },
    {
      "cell_type": "markdown",
      "metadata": {
        "id": "AKIX0-8f9bzb"
      },
      "source": [
        "*Exercise: Train a deep MLP on the MNIST dataset (you can load it using `tf.keras.datasets.mnist.load_data()`. See if you can get over 98% accuracy by manually tuning the hyperparameters. Try searching for the optimal learning rate by using the approach presented in this chapter (i.e., by growing the learning rate exponentially, plotting the loss, and finding the point where the loss shoots up). Next, try tuning the hyperparameters using Keras Tuner with all the bells and whistles—save checkpoints, use early stopping, and plot learning curves using TensorBoard.*"
      ]
    },
    {
      "cell_type": "markdown",
      "metadata": {
        "id": "n8NFgkqq9bzb"
      },
      "source": [
        "**TODO**: update this solution to use Keras Tuner."
      ]
    },
    {
      "cell_type": "markdown",
      "metadata": {
        "id": "Vo7YETGj9bzb"
      },
      "source": [
        "Let's load the dataset:"
      ]
    },
    {
      "cell_type": "code",
      "execution_count": null,
      "metadata": {
        "id": "c69Gkh0E9bzb"
      },
      "outputs": [],
      "source": [
        "(X_train_full, y_train_full), (X_test, y_test) = tf.keras.datasets.mnist.load_data()"
      ]
    },
    {
      "cell_type": "markdown",
      "metadata": {
        "id": "HZWVtxbL9bzb"
      },
      "source": [
        "Just like for the Fashion MNIST dataset, the MNIST training set contains 60,000 grayscale images, each 28x28 pixels:"
      ]
    },
    {
      "cell_type": "code",
      "execution_count": null,
      "metadata": {
        "id": "Z-88aCSI9bzb",
        "outputId": "e358e84a-1f8f-4906-ce4a-31b78d145079"
      },
      "outputs": [],
      "source": [
        "X_train_full.shape"
      ]
    },
    {
      "cell_type": "markdown",
      "metadata": {
        "id": "4BEWp0ft9bzb"
      },
      "source": [
        "Each pixel intensity is also represented as a byte (0 to 255):"
      ]
    },
    {
      "cell_type": "code",
      "execution_count": null,
      "metadata": {
        "id": "W0XOWMNN9bzb",
        "outputId": "b6b07310-40c5-4eb0-c459-e313309b0938"
      },
      "outputs": [],
      "source": [
        "X_train_full.dtype"
      ]
    },
    {
      "cell_type": "markdown",
      "metadata": {
        "id": "z6eVsPRp9bzb"
      },
      "source": [
        "Let's split the full training set into a validation set and a (smaller) training set. We also scale the pixel intensities down to the 0-1 range and convert them to floats, by dividing by 255, just like we did for Fashion MNIST:"
      ]
    },
    {
      "cell_type": "code",
      "execution_count": null,
      "metadata": {
        "id": "FfHs8EjG9bzb"
      },
      "outputs": [],
      "source": [
        "X_valid, X_train = X_train_full[:5000] / 255., X_train_full[5000:] / 255.\n",
        "y_valid, y_train = y_train_full[:5000], y_train_full[5000:]\n",
        "X_test = X_test / 255."
      ]
    },
    {
      "cell_type": "markdown",
      "metadata": {
        "id": "Xoo1pWpq9bzb"
      },
      "source": [
        "Let's plot an image using Matplotlib's `imshow()` function, with a `'binary'`\n",
        " color map:"
      ]
    },
    {
      "cell_type": "code",
      "execution_count": null,
      "metadata": {
        "id": "D4Tn3i8y9bzc",
        "outputId": "6ba0ebb4-1b77-4ff9-b1aa-c6f4cb72ee28"
      },
      "outputs": [],
      "source": [
        "plt.imshow(X_train[0], cmap=\"binary\")\n",
        "plt.axis('off')\n",
        "plt.show()"
      ]
    },
    {
      "cell_type": "markdown",
      "metadata": {
        "id": "TD4bSkFJ9bzc"
      },
      "source": [
        "The labels are the class IDs (represented as uint8), from 0 to 9. Conveniently, the class IDs correspond to the digits represented in the images, so we don't need a `class_names` array:"
      ]
    },
    {
      "cell_type": "code",
      "execution_count": null,
      "metadata": {
        "id": "OA5dcbxa9bzc",
        "outputId": "d521478e-d3d2-4a8a-80b8-e040a93e9fd0"
      },
      "outputs": [],
      "source": [
        "y_train"
      ]
    },
    {
      "cell_type": "markdown",
      "metadata": {
        "id": "mkW9zdQS9bzc"
      },
      "source": [
        "The validation set contains 5,000 images, and the test set contains 10,000 images:"
      ]
    },
    {
      "cell_type": "code",
      "execution_count": null,
      "metadata": {
        "id": "br--Yf9r9bzc",
        "outputId": "d8148619-3323-49f2-cce7-03244ae9e6f3"
      },
      "outputs": [],
      "source": [
        "X_valid.shape"
      ]
    },
    {
      "cell_type": "code",
      "execution_count": null,
      "metadata": {
        "id": "wVO5BM409bzc",
        "outputId": "13d9b4a9-286d-4f18-ce8d-a3642d56d891"
      },
      "outputs": [],
      "source": [
        "X_test.shape"
      ]
    },
    {
      "cell_type": "markdown",
      "metadata": {
        "id": "VZmupILQ9bzc"
      },
      "source": [
        "Let's take a look at a sample of the images in the dataset:"
      ]
    },
    {
      "cell_type": "code",
      "execution_count": null,
      "metadata": {
        "id": "5IKgyqia9bzc",
        "outputId": "cab307e6-5997-4f18-963b-314779f26454"
      },
      "outputs": [],
      "source": [
        "n_rows = 4\n",
        "n_cols = 10\n",
        "plt.figure(figsize=(n_cols * 1.2, n_rows * 1.2))\n",
        "for row in range(n_rows):\n",
        "    for col in range(n_cols):\n",
        "        index = n_cols * row + col\n",
        "        plt.subplot(n_rows, n_cols, index + 1)\n",
        "        plt.imshow(X_train[index], cmap=\"binary\", interpolation=\"nearest\")\n",
        "        plt.axis('off')\n",
        "        plt.title(y_train[index])\n",
        "plt.subplots_adjust(wspace=0.2, hspace=0.5)\n",
        "plt.show()"
      ]
    },
    {
      "cell_type": "markdown",
      "metadata": {
        "id": "4xGKU7AZ9bzc"
      },
      "source": [
        "Let's build a simple dense network and find the optimal learning rate. We will need a callback to grow the learning rate at each iteration. It will also record the learning rate and the loss at each iteration:"
      ]
    },
    {
      "cell_type": "code",
      "execution_count": null,
      "metadata": {
        "id": "bGWdA8NI9bzc"
      },
      "outputs": [],
      "source": [
        "K = tf.keras.backend\n",
        "\n",
        "class ExponentialLearningRate(tf.keras.callbacks.Callback):\n",
        "    def __init__(self, factor):\n",
        "        self.factor = factor\n",
        "        self.rates = []\n",
        "        self.losses = []\n",
        "    def on_batch_end(self, batch, logs):\n",
        "        self.rates.append(K.get_value(self.model.optimizer.learning_rate))\n",
        "        self.losses.append(logs[\"loss\"])\n",
        "        K.set_value(self.model.optimizer.learning_rate, self.model.optimizer.learning_rate * self.factor)"
      ]
    },
    {
      "cell_type": "code",
      "execution_count": null,
      "metadata": {
        "id": "rKXrgmv69bzc"
      },
      "outputs": [],
      "source": [
        "tf.keras.backend.clear_session()\n",
        "np.random.seed(42)\n",
        "tf.random.set_seed(42)"
      ]
    },
    {
      "cell_type": "code",
      "execution_count": null,
      "metadata": {
        "id": "gK5VOH5G9bzc"
      },
      "outputs": [],
      "source": [
        "model = tf.keras.Sequential([\n",
        "    tf.keras.layers.Flatten(input_shape=[28, 28]),\n",
        "    tf.keras.layers.Dense(300, activation=\"relu\"),\n",
        "    tf.keras.layers.Dense(100, activation=\"relu\"),\n",
        "    tf.keras.layers.Dense(10, activation=\"softmax\")\n",
        "])"
      ]
    },
    {
      "cell_type": "markdown",
      "metadata": {
        "id": "MOqqz3WU9bzc"
      },
      "source": [
        "We will start with a small learning rate of 1e-3, and grow it by 0.5% at each iteration:"
      ]
    },
    {
      "cell_type": "code",
      "execution_count": null,
      "metadata": {
        "id": "FdsdR9oq9bzc"
      },
      "outputs": [],
      "source": [
        "optimizer = tf.keras.optimizers.SGD(learning_rate=1e-3)\n",
        "model.compile(loss=\"sparse_categorical_crossentropy\", optimizer=optimizer,\n",
        "              metrics=[\"accuracy\"])\n",
        "expon_lr = ExponentialLearningRate(factor=1.005)"
      ]
    },
    {
      "cell_type": "markdown",
      "metadata": {
        "id": "R2u1WoHQ9bzc"
      },
      "source": [
        "Now let's train the model for just 1 epoch:"
      ]
    },
    {
      "cell_type": "code",
      "execution_count": null,
      "metadata": {
        "id": "72rM-YZl9bzc",
        "outputId": "401a55a1-1ef0-4da4-97ff-44c57cce2ff8"
      },
      "outputs": [],
      "source": [
        "history = model.fit(X_train, y_train, epochs=1,\n",
        "                    validation_data=(X_valid, y_valid),\n",
        "                    callbacks=[expon_lr])"
      ]
    },
    {
      "cell_type": "markdown",
      "metadata": {
        "id": "jBGbGQ6-9bzd"
      },
      "source": [
        "We can now plot the loss as a functionof the learning rate:"
      ]
    },
    {
      "cell_type": "code",
      "execution_count": null,
      "metadata": {
        "id": "GHdGLXtB9bzd",
        "outputId": "456bafb4-cf9c-4b5a-accb-c3e673be7058"
      },
      "outputs": [],
      "source": [
        "plt.plot(expon_lr.rates, expon_lr.losses)\n",
        "plt.gca().set_xscale('log')\n",
        "plt.hlines(min(expon_lr.losses), min(expon_lr.rates), max(expon_lr.rates))\n",
        "plt.axis([min(expon_lr.rates), max(expon_lr.rates), 0, expon_lr.losses[0]])\n",
        "plt.grid()\n",
        "plt.xlabel(\"Learning rate\")\n",
        "plt.ylabel(\"Loss\")"
      ]
    },
    {
      "cell_type": "markdown",
      "metadata": {
        "id": "YlN3kHNJ9bzd"
      },
      "source": [
        "The loss starts shooting back up violently when the learning rate goes over 6e-1, so let's try using half of that, at 3e-1:"
      ]
    },
    {
      "cell_type": "code",
      "execution_count": null,
      "metadata": {
        "id": "Bg3DMa6r9bzd"
      },
      "outputs": [],
      "source": [
        "tf.keras.backend.clear_session()\n",
        "np.random.seed(42)\n",
        "tf.random.set_seed(42)"
      ]
    },
    {
      "cell_type": "code",
      "execution_count": null,
      "metadata": {
        "id": "tXcTeF4q9bzd"
      },
      "outputs": [],
      "source": [
        "model = tf.keras.Sequential([\n",
        "    tf.keras.layers.Flatten(input_shape=[28, 28]),\n",
        "    tf.keras.layers.Dense(300, activation=\"relu\"),\n",
        "    tf.keras.layers.Dense(100, activation=\"relu\"),\n",
        "    tf.keras.layers.Dense(10, activation=\"softmax\")\n",
        "])"
      ]
    },
    {
      "cell_type": "code",
      "execution_count": null,
      "metadata": {
        "id": "EDjDpJFz9bzd"
      },
      "outputs": [],
      "source": [
        "optimizer = tf.keras.optimizers.SGD(learning_rate=3e-1)\n",
        "model.compile(loss=\"sparse_categorical_crossentropy\", optimizer=optimizer,\n",
        "              metrics=[\"accuracy\"])"
      ]
    },
    {
      "cell_type": "code",
      "execution_count": null,
      "metadata": {
        "id": "tP4icG__9bzd",
        "outputId": "4d6ef498-242f-4ee5-ce3e-42ef335b7e0b"
      },
      "outputs": [],
      "source": [
        "run_index = 1 # increment this at every run\n",
        "run_logdir = Path() / \"my_mnist_logs\" / \"run_{:03d}\".format(run_index)\n",
        "run_logdir"
      ]
    },
    {
      "cell_type": "code",
      "execution_count": null,
      "metadata": {
        "id": "Cte5QOw49bzd",
        "outputId": "b6a30ddc-d134-41c9-d5ba-360405812422"
      },
      "outputs": [],
      "source": [
        "early_stopping_cb = tf.keras.callbacks.EarlyStopping(patience=20)\n",
        "checkpoint_cb = tf.keras.callbacks.ModelCheckpoint(\"my_mnist_model\", save_best_only=True)\n",
        "tensorboard_cb = tf.keras.callbacks.TensorBoard(run_logdir)\n",
        "\n",
        "history = model.fit(X_train, y_train, epochs=100,\n",
        "                    validation_data=(X_valid, y_valid),\n",
        "                    callbacks=[checkpoint_cb, early_stopping_cb, tensorboard_cb])"
      ]
    },
    {
      "cell_type": "code",
      "execution_count": null,
      "metadata": {
        "id": "kc6jJF-79bzd",
        "outputId": "67ea4a12-5cf4-4088-8c3d-bc7edd8bba38"
      },
      "outputs": [],
      "source": [
        "model = tf.keras.models.load_model(\"my_mnist_model\") # rollback to best model\n",
        "model.evaluate(X_test, y_test)"
      ]
    },
    {
      "cell_type": "markdown",
      "metadata": {
        "id": "dd_1SoZ39bzd"
      },
      "source": [
        "We got over 98% accuracy. Finally, let's look at the learning curves using TensorBoard:"
      ]
    },
    {
      "cell_type": "code",
      "execution_count": null,
      "metadata": {
        "id": "O0ujNOx39bze",
        "outputId": "4d4aeb9c-71de-4dfd-d01c-127ec73ccbea"
      },
      "outputs": [],
      "source": [
        "%tensorboard --logdir=./my_mnist_logs"
      ]
    },
    {
      "cell_type": "code",
      "execution_count": null,
      "metadata": {
        "id": "7tOABUZ_9bze"
      },
      "outputs": [],
      "source": []
    }
  ],
  "metadata": {
    "colab": {
      "provenance": []
    },
    "kernelspec": {
      "display_name": "Python 3",
      "language": "python",
      "name": "python3"
    },
    "language_info": {
      "codemirror_mode": {
        "name": "ipython",
        "version": 3
      },
      "file_extension": ".py",
      "mimetype": "text/x-python",
      "name": "python",
      "nbconvert_exporter": "python",
      "pygments_lexer": "ipython3",
      "version": "3.11.3"
    },
    "nav_menu": {
      "height": "264px",
      "width": "369px"
    },
    "toc": {
      "navigate_menu": true,
      "number_sections": true,
      "sideBar": true,
      "threshold": 6,
      "toc_cell": false,
      "toc_section_display": "block",
      "toc_window_display": false
    }
  },
  "nbformat": 4,
  "nbformat_minor": 0
}
